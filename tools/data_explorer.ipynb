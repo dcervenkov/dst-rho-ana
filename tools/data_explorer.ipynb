{
 "cells": [
  {
   "cell_type": "markdown",
   "metadata": {
    "collapsed": "true"
   },
   "source": [
    "## Initialization Cells"
   ]
  },
  {
   "cell_type": "code",
   "execution_count": null,
   "metadata": {
    "ExecuteTime": {
     "end_time": "2020-08-11T18:31:08.019904Z",
     "start_time": "2020-08-11T18:31:07.369545Z"
    }
   },
   "outputs": [],
   "source": [
    "# Standard includes\n",
    "%matplotlib inline\n",
    "# %matplotlib widget\n",
    "import json\n",
    "import glob\n",
    "import matplotlib.pyplot as plt\n",
    "import numpy as np\n",
    "import pandas as pd\n",
    "import uproot\n",
    "# from scipy.optimize import curve_fit\n",
    "# from scipy.stats import norm\n",
    "# from statsmodels.base.model import GenericLikelihoodModel"
   ]
  },
  {
   "cell_type": "code",
   "execution_count": null,
   "metadata": {
    "ExecuteTime": {
     "end_time": "2020-08-11T18:31:08.412383Z",
     "start_time": "2020-08-11T18:31:08.022493Z"
    }
   },
   "outputs": [],
   "source": [
    "# Style setup\n",
    "import seaborn as sns\n",
    "sns.set_palette('muted')\n",
    "sns.set_color_codes()\n",
    "sns.set_style('ticks')\n",
    "sns.set_style({'xtick.direction': 'in','ytick.direction': 'in'})\n",
    "sns.set_style({'axes.grid': 'True', 'grid.color': '0.95'})\n",
    "\n",
    "plt.rcParams['figure.figsize'] = [6,6]\n",
    "plt.rcParams['figure.dpi'] = 100\n",
    "\n",
    "def darken_color(color, p):\n",
    "    return (color[0]*p,color[1]*p,color[2]*p)\n",
    "\n",
    "import matplotlib as mpl\n",
    "colors = sns.color_palette('muted') + [(.1, .1, .1)]\n",
    "for code, color in zip(['bd','gd','rd','md','yd','cd','kd'], colors):\n",
    "    rgb = mpl.colors.colorConverter.to_rgb(darken_color(color,0.8))\n",
    "    mpl.colors.colorConverter.colors[code] = rgb\n",
    "    mpl.colors.colorConverter.cache[code] = rgb\n",
    "\n",
    "blue = (114/256, 147/256, 203/256)\n",
    "orange = (225/256, 151/256,  76/256)\n",
    "green = (132/256, 186/256,  91/256)\n",
    "red = (211/256,  94/256,  96/256)\n",
    "grey = (128/256, 133/256, 133/256)\n",
    "violet = (144/256, 103/256, 167/256)\n",
    "brown = (171/256, 104/256,  87/256)\n",
    "yellow = (204/256, 194/256,  16/256)\n",
    "\n",
    "SMALL_SIZE = 14\n",
    "MEDIUM_SIZE = 16\n",
    "BIGGER_SIZE = 18\n",
    "\n",
    "plt.rc('font', size=SMALL_SIZE)          # controls default text sizes\n",
    "plt.rc('axes', titlesize=SMALL_SIZE)     # fontsize of the axes title\n",
    "plt.rc('axes', labelsize=MEDIUM_SIZE)    # fontsize of the x and y labels\n",
    "plt.rc('xtick', labelsize=SMALL_SIZE)    # fontsize of the tick labels\n",
    "plt.rc('ytick', labelsize=SMALL_SIZE)    # fontsize of the tick labels\n",
    "plt.rc('legend', fontsize=SMALL_SIZE)    # legend fontsize\n",
    "plt.rc('figure', titlesize=BIGGER_SIZE)  # fontsize of the figure title"
   ]
  },
  {
   "cell_type": "code",
   "execution_count": null,
   "metadata": {
    "ExecuteTime": {
     "end_time": "2020-08-11T18:31:08.420904Z",
     "start_time": "2020-08-11T18:31:08.414672Z"
    }
   },
   "outputs": [],
   "source": [
    "def apply_cuts(df):\n",
    "    \"\"\"Apply common cuts to a dataset and return the result.\"\"\"\n",
    "    return df[ \n",
    "        (df.vrusable == 1) &\n",
    "        (df.vtusable == 1) &\n",
    "        (((df.vrchi2/df.vrndf) < 50) | (df.vrntrk == 1)) &\n",
    "        (((df.vtchi2/df.vtndf) < 50) | (df.vtntrk == 1)) &\n",
    "        (((np.sqrt(df.vrerr6) < 0.02) & (df.vrntrk > 1)) | ((np.sqrt(df.vrerr6) < 0.05) & (df.vrntrk == 1))) &\n",
    "        (((np.sqrt(df.vterr6) < 0.02) & (df.vtntrk > 1)) | ((np.sqrt(df.vterr6) < 0.05) & (df.vtntrk == 1))) &\n",
    "        (df.csbdtg > -0.6) &\n",
    "        ((df.de > -0.14) & (df.de < 0.068)) &\n",
    "        ((df.dt > -10) & (df.dt < 10)) &\n",
    "        (df.thetab > 0.65) & (df.thetab < 2.95) &\n",
    "        (df.nocand <= 3)\n",
    "    ]\n",
    "\n",
    "def get_dataframe(paths, branches=None):\n",
    "    \"\"\"Read ROOT files, apply common cuts, and return as dataframe.\"\"\"\n",
    "    assert paths, \"No paths supplied\"\n",
    "    df = pd.DataFrame()\n",
    "    for path in paths:\n",
    "        temp_df = uproot.open(path)[\"h2000\"].pandas.df()\n",
    "        temp_df = apply_cuts(temp_df)\n",
    "        if branches:\n",
    "            if isinstance(branches, str):\n",
    "                branches = [branches]\n",
    "            df = df.append(temp_df[branches])\n",
    "        else:\n",
    "            df = df.append(temp_df)\n",
    "    return df"
   ]
  },
  {
   "cell_type": "markdown",
   "metadata": {},
   "source": [
    "## Exploration"
   ]
  },
  {
   "cell_type": "code",
   "execution_count": null,
   "metadata": {
    "ExecuteTime": {
     "end_time": "2020-08-11T18:31:08.441803Z",
     "start_time": "2020-08-11T18:31:08.422657Z"
    }
   },
   "outputs": [],
   "source": [
    "df_mc   = get_dataframe(glob.glob('../data/Kpi/realistic_mc/stream0/*.root'))\n",
    "df_data = get_dataframe(glob.glob('../data/Kpi/*.root'))"
   ]
  },
  {
   "cell_type": "code",
   "execution_count": null,
   "metadata": {},
   "outputs": [],
   "source": [
    "df_data = df_data.head(df_mc.shape[0])\n",
    "print(df_mc.shape)\n",
    "print(df_data.shape)"
   ]
  },
  {
   "cell_type": "code",
   "execution_count": null,
   "metadata": {},
   "outputs": [],
   "source": [
    "fig, ax = plt.subplots()\n",
    "df_mc.plot.scatter(x='mdspi', y='mdspi0', c='evmcflag', s=1, figsize=(6,5), ax=ax, cmap=\"viridis\")\n",
    "plt.xlabel(\"M($D^{*}\\pi$)\")\n",
    "plt.ylabel(\"M($D^{*}\\pi^0$)\")\n",
    "fig.get_axes()[1].set_ylabel(\"MC Flag\")\n",
    "\n",
    "plt.tight_layout()\n",
    "plt.savefig(\"mdstpi_vs_mdstpi0.png\")\n",
    "plt.savefig(\"mdstpi_vs_mdstpi0.pdf\")"
   ]
  },
  {
   "cell_type": "code",
   "execution_count": null,
   "metadata": {},
   "outputs": [],
   "source": [
    "vals, bins, patches = plt.hist([df_mc.mdspi , df_data.mdspi], histtype='step', bins=30, linewidth=1.5)\n",
    "\n",
    "# Add error bars\n",
    "centers = (bins[:-1] + bins[1:]) / 2\n",
    "width =  bins[1] - bins[0]\n",
    "plt.gca().set_prop_cycle(None)\n",
    "for val in vals:\n",
    "    plt.errorbar(centers, val, yerr=np.sqrt(val), drawstyle=\"steps-mid\", ls=\"none\")\n",
    "\n",
    "plt.legend([\"MC\", \"data\"], loc=\"upper left\")\n",
    "plt.xlabel(\"M($D^{*}\\pi$) [GeV]\")\n",
    "plt.savefig(\"dspimass.pdf\")\n",
    "plt.savefig(\"dspimass.png\")"
   ]
  },
  {
   "cell_type": "code",
   "execution_count": null,
   "metadata": {},
   "outputs": [],
   "source": [
    "vals, bins, patches = plt.hist([df_mc.mdspi0 , df_data.mdspi0], histtype='step', bins=30, linewidth=1.5)\n",
    "\n",
    "# Add error bars\n",
    "centers = (bins[:-1] + bins[1:]) / 2\n",
    "width =  bins[1] - bins[0]\n",
    "plt.gca().set_prop_cycle(None)\n",
    "for val in vals:\n",
    "    plt.errorbar(centers, val, yerr=np.sqrt(val), drawstyle=\"steps-mid\", ls=\"none\")\n",
    "\n",
    "plt.legend([\"MC\", \"data\"], loc=\"upper left\")\n",
    "plt.xlabel(\"M($D^{*}\\pi^0$) [GeV]\")\n",
    "plt.savefig(\"dspi0mass.pdf\")\n",
    "plt.savefig(\"dspi0mass.png\")"
   ]
  },
  {
   "cell_type": "code",
   "execution_count": null,
   "metadata": {},
   "outputs": [],
   "source": [
    "plt.hist([df_mc.mdspi0, df_data.mdspi0], histtype='step', bins=30, density=True, linewidth=1.5)\n",
    "plt.legend([\"MC\", \"data\"], loc=\"upper left\")"
   ]
  },
  {
   "cell_type": "code",
   "execution_count": null,
   "metadata": {},
   "outputs": [],
   "source": [
    "vals, bins, patches = plt.hist([df_mc.rhomass , df_data.rhomass], histtype='step', bins=30, linewidth=1.5)\n",
    "\n",
    "# Add error bars\n",
    "centers = (bins[:-1] + bins[1:]) / 2\n",
    "width =  bins[1] - bins[0]\n",
    "plt.gca().set_prop_cycle(None)\n",
    "for val in vals:\n",
    "    plt.errorbar(centers, val, yerr=np.sqrt(val), drawstyle=\"steps-mid\", ls=\"none\")\n",
    "\n",
    "plt.legend([\"MC\", \"data\"], loc=\"upper left\")\n",
    "plt.xlabel(\"M($\\pi\\pi^0$) [GeV]\")\n",
    "plt.savefig(\"rhomass.pdf\")\n",
    "plt.savefig(\"rhomass.png\")"
   ]
  },
  {
   "cell_type": "code",
   "execution_count": null,
   "metadata": {},
   "outputs": [],
   "source": []
  }
 ],
 "metadata": {
  "kernelspec": {
   "display_name": "Python 3",
   "language": "python",
   "name": "python3"
  },
  "language_info": {
   "codemirror_mode": {
    "name": "ipython",
    "version": 3
   },
   "file_extension": ".py",
   "mimetype": "text/x-python",
   "name": "python",
   "nbconvert_exporter": "python",
   "pygments_lexer": "ipython3",
   "version": "3.7.3"
  }
 },
 "nbformat": 4,
 "nbformat_minor": 4
}
