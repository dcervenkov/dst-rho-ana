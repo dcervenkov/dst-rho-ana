{
 "cells": [
  {
   "cell_type": "code",
   "execution_count": null,
   "metadata": {},
   "outputs": [],
   "source": [
    "%matplotlib inline\n",
    "import matplotlib.pyplot as plt\n",
    "import numpy as np\n",
    "import os\n",
    "import pandas as pd\n",
    "from scipy.optimize import curve_fit\n",
    "from scipy.stats import norm\n",
    "from statsmodels.base.model import GenericLikelihoodModel\n",
    "import seaborn as sns\n",
    "sns.set_palette(\"muted\")\n",
    "sns.set_color_codes()\n",
    "sns.set_style(\"ticks\")\n",
    "sns.set_style({\"xtick.direction\": \"in\",\"ytick.direction\": \"in\"})\n",
    "sns.set_style({\"axes.grid\": \"True\", \"grid.color\": \"0.95\"})\n",
    "\n",
    "plt.rcParams[\"figure.figsize\"] = [6,6]\n",
    "plt.rcParams[\"figure.dpi\"] = 100\n",
    "plt.rcParams[\"mathtext.fontset\"] = \"dejavusans\""
   ]
  },
  {
   "cell_type": "code",
   "execution_count": null,
   "metadata": {},
   "outputs": [],
   "source": [
    "import seaborn as sns\n",
    "sns.set_palette('muted')\n",
    "sns.set_color_codes()\n",
    "sns.set_style('ticks')\n",
    "sns.set_style({'xtick.direction': 'in','ytick.direction': 'in'})\n",
    "sns.set_style({'axes.grid': 'True', 'grid.color': '0.95'})\n",
    "\n",
    "plt.rcParams['figure.figsize'] = [6,6]\n",
    "plt.rcParams['figure.dpi'] = 100\n",
    "def darken_color(color, p):\n",
    "    return (color[0]*p,color[1]*p,color[2]*p)\n",
    "\n",
    "import matplotlib as mpl\n",
    "colors = sns.color_palette('muted') + [(.1, .1, .1)]\n",
    "for code, color in zip(['bd','gd','rd','md','yd','cd','kd'], colors):\n",
    "    rgb = mpl.colors.colorConverter.to_rgb(darken_color(color,0.8))\n",
    "    mpl.colors.colorConverter.colors[code] = rgb\n",
    "    mpl.colors.colorConverter.cache[code] = rgb\n",
    "\n",
    "blue = (114/256, 147/256, 203/256)\n",
    "orange = (225/256, 151/256,  76/256)\n",
    "green = (132/256, 186/256,  91/256)\n",
    "red = (211/256,  94/256,  96/256)\n",
    "grey = (128/256, 133/256, 133/256)\n",
    "violet = (144/256, 103/256, 167/256)\n",
    "brown = (171/256, 104/256,  87/256)\n",
    "yellow = (204/256, 194/256,  16/256)\n",
    "\n",
    "SMALL_SIZE = 14\n",
    "MEDIUM_SIZE = 16\n",
    "BIGGER_SIZE = 18\n",
    "\n",
    "plt.rc('font', size=SMALL_SIZE)          # controls default text sizes\n",
    "plt.rc('axes', titlesize=SMALL_SIZE)     # fontsize of the axes title\n",
    "plt.rc('axes', labelsize=MEDIUM_SIZE)    # fontsize of the x and y labels\n",
    "plt.rc('xtick', labelsize=SMALL_SIZE)    # fontsize of the tick labels\n",
    "plt.rc('ytick', labelsize=SMALL_SIZE)    # fontsize of the tick labels\n",
    "plt.rc('legend', fontsize=SMALL_SIZE)    # legend fontsize\n",
    "plt.rc('figure', titlesize=BIGGER_SIZE)  # fontsize of the figure title"
   ]
  },
  {
   "cell_type": "markdown",
   "metadata": {},
   "source": [
    "Prepare variable list for reading the result files. `time_dependent` needs to be changed to `False` for time-independent results."
   ]
  },
  {
   "cell_type": "code",
   "execution_count": null,
   "metadata": {},
   "outputs": [],
   "source": [
    "from collections import OrderedDict \n",
    "\n",
    "var_types = (\"gen\", \"fit\", \"err\")\n",
    "var_dict_ti = OrderedDict([\n",
    "            (\"ap\", r\"$|A_\\parallel|$\"), \n",
    "            (\"apa\", r\"$\\arg(A_\\parallel)$\"), \n",
    "            (\"a0\", r\"$|A_0|$\"), \n",
    "            (\"a0a\", r\"$\\arg(A_0)$\"), \n",
    "            (\"at\", r\"$|A_\\perp|$\"), \n",
    "            (\"ata\", r\"$\\arg(A_\\perp)$\")\n",
    "            ])\n",
    "\n",
    "var_dict_td = OrderedDict([\n",
    "            (\"ap\", r\"$|A_\\parallel|$\"), \n",
    "            (\"apa\", r\"$\\arg(A_\\parallel)$\"), \n",
    "            (\"a0\", r\"$|A_0|$\"), \n",
    "            (\"a0a\", r\"$\\arg(A_0)$\"), \n",
    "            (\"at\", r\"$|A_\\perp|$\"), \n",
    "            (\"ata\", r\"$\\arg(A_\\perp)$\"),\n",
    "            (\"xp\", r\"$x_\\parallel$\"),\n",
    "            (\"x0\", r\"$x_0$\"),\n",
    "            (\"xt\", r\"$x_\\perp$\"),\n",
    "            (\"yp\", r\"$y_\\parallel$\"),\n",
    "            (\"y0\", r\"$y_0$\"),\n",
    "            (\"yt\", r\"$y_\\perp$\"),\n",
    "            (\"xbp\", r\"$\\bar x_\\parallel$\"),\n",
    "            (\"xb0\", r\"$\\bar x_0$\"),\n",
    "            (\"xbt\", r\"$\\bar x_\\perp$\"),\n",
    "            (\"ybp\", r\"$\\bar y_\\parallel$\"),\n",
    "            (\"yb0\", r\"$\\bar y_0$\"),\n",
    "            (\"ybt\", r\"$\\bar y_\\perp$\")\n",
    "            ])\n",
    "\n",
    "\n",
    "var_names_ti = list(var_dict_ti.keys())\n",
    "vars_ti = ([var_name + \"_\" + var_type for var_name in var_names_ti for var_type in var_types])\n",
    "\n",
    "var_names_td = list(var_dict_td.keys())\n",
    "vars_td = ([var_name + \"_\" + var_type for var_name in var_names_td for var_type in var_types])"
   ]
  },
  {
   "cell_type": "code",
   "execution_count": null,
   "metadata": {},
   "outputs": [],
   "source": [
    "def get_dataframes(dirs, vars):\n",
    "    dfs = []\n",
    "    for directory in dirs:\n",
    "        all_files = glob.glob(os.path.join(directory, \"*[0-9]\"))\n",
    "        print(\"Num files in '\" + str(directory) + \"': \" + str(len(all_files)))\n",
    "        df_from_each_file = (pd.read_csv(f,\n",
    "                                         sep=\" \\|\\| | \\| | \",\n",
    "                                         header=None,\n",
    "                                         names=vars,\n",
    "                                         engine='python') for f in all_files)\n",
    "        df = pd.concat(df_from_each_file, ignore_index=True)\n",
    "        dfs.append(df)\n",
    "    return dfs"
   ]
  },
  {
   "cell_type": "code",
   "execution_count": null,
   "metadata": {},
   "outputs": [],
   "source": [
    "import os\n",
    "import glob\n",
    "\n",
    "dir = 'randomized_all'\n",
    "\n",
    "dirs_ti = [\n",
    "    '../results/' + dir + '/Kpi_ti_data_mcbkg',\n",
    "    '../results/' + dir + '/Kpipi0_ti_data_mcbkg',\n",
    "    '../results/' + dir + '/K3pi_ti_data_mcbkg',\n",
    "    '../results/' + dir + '/together_ti_data_mcbkg'\n",
    "]\n",
    "\n",
    "dirs_td = [\n",
    "    '../results/' + dir + '/Kpi_td_data_mcbkg',\n",
    "    '../results/' + dir + '/Kpipi0_td_data_mcbkg',\n",
    "    '../results/' + dir + '/K3pi_td_data_mcbkg',\n",
    "    '../results/' + dir + '/together_td_data_mcbkg'\n",
    "]\n",
    "\n",
    "dfs_ti = get_dataframes(dirs_ti, vars_ti)\n",
    "dfs_td = get_dataframes(dirs_td, vars_td)"
   ]
  },
  {
   "cell_type": "code",
   "execution_count": null,
   "metadata": {},
   "outputs": [],
   "source": [
    "def print_means_and_devs(dirs, var_names, dfs):\n",
    "    print(\"Means\")\n",
    "    for var in var_names:\n",
    "        column_name = var + \"_fit\"\n",
    "        print(\"{:4}| \".format(var), end='')\n",
    "        for i in range(0, len(dirs)):\n",
    "#             print(\"{:+5.4f} | \".format(float(dfs[i][[column_name]].mean())), end='')\n",
    "            print(\"{:+5.4f} | \".format(float(pd.DataFrame.mean(dfs[i][[column_name]]))), end='')\n",
    "        print()\n",
    "        \n",
    "    print()\n",
    "    print(\"Std. deviations\")\n",
    "    for var in var_names:\n",
    "        column_name = var + \"_fit\"\n",
    "        print(\"{:4}| \".format(var), end='')\n",
    "        for i in range(0, len(dirs)):\n",
    "            print(\"{:+5.4f} | \".format(float(dfs[i][[column_name]].std())), end='')\n",
    "        print()"
   ]
  },
  {
   "cell_type": "code",
   "execution_count": null,
   "metadata": {},
   "outputs": [],
   "source": [
    "print_means_and_devs(dirs_ti, var_names_ti, dfs_ti)\n",
    "print_means_and_devs(dirs_td, var_names_td, dfs_td)"
   ]
  },
  {
   "cell_type": "markdown",
   "metadata": {},
   "source": [
    "It's better to use the $\\sigma$ from a Gaussian fit instead of the following std.dev."
   ]
  },
  {
   "cell_type": "markdown",
   "metadata": {},
   "source": [
    "The following cell shows a distribution of pulls for all directories and all variables"
   ]
  },
  {
   "cell_type": "code",
   "execution_count": null,
   "metadata": {},
   "outputs": [],
   "source": [
    "def fit_and_plot_dataframe(df, var_names, var_titles, path=None):\n",
    "    cols = 3\n",
    "    rows = int(len(var_names)/cols)\n",
    "\n",
    "    plt.rcParams[\"figure.figsize\"] = [cols * 3.5, rows * 3.5]\n",
    "\n",
    "    # a0a is always 0 so the histo is too high and because of 'sharey',\n",
    "    # all the histos are scaled incorrectly\n",
    "    df['a0a_fit'] = df['apa_fit']\n",
    "\n",
    "    fig, axs = plt.subplots(nrows=rows, ncols=cols, sharey=True)\n",
    "    fig.tight_layout(h_pad=2, w_pad=1)\n",
    "\n",
    "    for i, ax in enumerate(axs.flat):\n",
    "        if var_names[i] != \"a0a\":\n",
    "            data = df[var_names[i] + \"_fit\"]\n",
    "            n, bins, patches = ax.hist(\n",
    "#                 data, bins=10)\n",
    "                data, bins=10, edgecolor=darken_color(sns.color_palette(\"muted\")[0], 0.8))\n",
    "            area = np.sum(np.diff(bins)*n)\n",
    "            mu, sigma = norm.fit(data)\n",
    "\n",
    "            # Create a bunch of equidistant points to calculate the \n",
    "            # function values at (many points to make it look smooth)\n",
    "            x = np.linspace(data.min(), data.max(), 100)\n",
    "            norm_fitted = norm.pdf(x, mu, sigma)*area\n",
    "            ax.plot(x, norm_fitted)\n",
    "            print(f\"{var_names[i]:3} = {mu:+.5f} +- {sigma:.5f}\")\n",
    "        else:\n",
    "            ax.text(0.5, 0.5, \"Empty on purpose\", horizontalalignment=\"center\", \n",
    "                    verticalalignment=\"center\", transform=ax.transAxes)\n",
    "\n",
    "        ax.set_xlabel(var_titles[var_names[i]])\n",
    "        ax.set_title(\"\")\n",
    "        ax.ticklabel_format(useOffset=False)\n",
    "        ax.locator_params(tight=True, nbins=3)\n",
    "\n",
    "    if path:\n",
    "        fig.savefig(path + \".pdf\", bbox_inches = 'tight')\n",
    "        fig.savefig(path + \".png\", bbox_inches = 'tight')"
   ]
  },
  {
   "cell_type": "code",
   "execution_count": null,
   "metadata": {},
   "outputs": [],
   "source": [
    "reshuffled_vars_ti = [\"a0\", \"a0a\", \"ap\", \"apa\", \"at\", \"ata\"]\n",
    "reshuffled_vars_td = reshuffled_vars_ti + var_names_td[6:]\n",
    "\n",
    "fit_and_plot_dataframe(dfs_ti[-1:][0], reshuffled_vars_ti, var_dict_ti, dir + \"_ti\")\n",
    "fit_and_plot_dataframe(dfs_td[-1:][0], reshuffled_vars_td, var_dict_td, dir + \"_td\")"
   ]
  },
  {
   "cell_type": "markdown",
   "metadata": {},
   "source": [
    "This fits the distributions with Gaussians and shows the uncertainties on the $\\mu$ and $\\sigma$ of each distribution. "
   ]
  },
  {
   "cell_type": "code",
   "execution_count": null,
   "metadata": {},
   "outputs": [],
   "source": [
    "class Gaussian(GenericLikelihoodModel):\n",
    "    def __init__(self, endog, exog=None, **kwds):\n",
    "        #if exog is None:\n",
    "        #    exog = np.zeros_like(endog)\n",
    "            \n",
    "        super(Gaussian, self).__init__(endog, exog, **kwds)\n",
    "    \n",
    "    def nloglikeobs(self, params):\n",
    "        loc = params[0]\n",
    "        scale = params[1]\n",
    "\n",
    "        return -np.log(norm.pdf(self.endog, loc=loc, scale=scale))\n",
    "    \n",
    "    def fit(self, start_params=None, maxiter=10000, maxfun=5000, **kwds):\n",
    "        if start_params is None:\n",
    "            loc_start = self.endog.mean()\n",
    "            scale_start = self.endog.std()\n",
    "            \n",
    "            start_params = np.array([loc_start, scale_start])\n",
    "            \n",
    "        return super(Gaussian, self).fit(start_params=start_params,\n",
    "                                         maxiter=maxiter, maxfun=maxfun, **kwds)"
   ]
  },
  {
   "cell_type": "code",
   "execution_count": null,
   "metadata": {},
   "outputs": [],
   "source": [
    "real_vars = [var + \"_fit\" for var in var_names]\n",
    "real_vars.remove('a0a_fit')\n",
    "\n",
    "for i, dir in enumerate(dirs):\n",
    "    print(\"Results for dir \" + dir)\n",
    "    for var in real_vars:\n",
    "        model = Gaussian(dfs[i][[var]]);\n",
    "        results = model.fit(disp=False);\n",
    "        print(\"{:7}: ({:+.4f} +- {:.4f}) +- ({:+.4f} +- {:.4f})\".format(\n",
    "            var, results.params[0], results.bse[0], results.params[1], results.bse[1]))\n",
    "    print()"
   ]
  },
  {
   "cell_type": "markdown",
   "metadata": {},
   "source": [
    "The old way of doing this follows."
   ]
  },
  {
   "cell_type": "code",
   "execution_count": null,
   "metadata": {},
   "outputs": [],
   "source": [
    "rows = 0\n",
    "if time_dependent:\n",
    "    rows = 6\n",
    "else:\n",
    "    rows = 2\n",
    "\n",
    "plt.rcParams[\"figure.figsize\"] = [9, rows * 3]\n",
    "for i, dir in enumerate(dirs):\n",
    "    column_names = [var + '_fit' for var in var_names]\n",
    "    # Without the following line the y-axis range on all plots is (0,100)\n",
    "    dfs[i]['a0a_fit'] = dfs[i]['apa_fit']\n",
    "    axs = dfs[i].hist(column=column_names, sharey=True, layout=(rows, 3), bins=10)\n",
    "    \n",
    "    print(\"Plots for dir \" + os.path.basename(dir))\n",
    "    for ax in axs.flat:\n",
    "        ax.set_xlabel(var_dict[ax.title.get_text().split('_')[0]])\n",
    "        if ax.title.get_text() == \"a0a_fit\":\n",
    "            ax.clear()\n",
    "            ax.set_xlabel(var_dict[\"a0a\"])\n",
    "            ax.text(0.5, 0.5, \"Empty on purpose\", horizontalalignment=\"center\", \n",
    "                    verticalalignment=\"center\", transform=ax.transAxes)\n",
    "        ax.set_title(\"\")\n",
    "        \n",
    "#     plt.savefig(os.path.basename(dir) + \"_pull_dist.pdf\", bbox_inches = 'tight')\n",
    "    plt.show()"
   ]
  }
 ],
 "metadata": {
  "kernelspec": {
   "display_name": "Python 3",
   "language": "python",
   "name": "python3"
  },
  "language_info": {
   "codemirror_mode": {
    "name": "ipython",
    "version": 3
   },
   "file_extension": ".py",
   "mimetype": "text/x-python",
   "name": "python",
   "nbconvert_exporter": "python",
   "pygments_lexer": "ipython3",
   "version": "3.7.3"
  }
 },
 "nbformat": 4,
 "nbformat_minor": 2
}
