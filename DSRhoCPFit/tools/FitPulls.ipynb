{
 "cells": [
  {
   "cell_type": "code",
   "execution_count": 1,
   "metadata": {},
   "outputs": [],
   "source": [
    "%matplotlib inline\n",
    "import matplotlib.pyplot as plt\n",
    "import numpy as np\n",
    "import pandas as pd\n",
    "from scipy.optimize import curve_fit\n",
    "from scipy.stats import norm\n",
    "from statsmodels.base.model import GenericLikelihoodModel\n",
    "import seaborn as sns\n",
    "sns.set_palette(\"muted\")\n",
    "sns.set_color_codes()\n",
    "sns.set_style(\"ticks\")\n",
    "sns.set_style({\"xtick.direction\": \"in\",\"ytick.direction\": \"in\"})\n",
    "sns.set_style({\"axes.grid\": \"True\", \"grid.color\": \"0.95\"})\n",
    "\n",
    "plt.rcParams[\"figure.figsize\"] = [6,6]\n",
    "plt.rcParams[\"figure.dpi\"] = 100"
   ]
  },
  {
   "cell_type": "code",
   "execution_count": 2,
   "metadata": {},
   "outputs": [],
   "source": [
    "import matplotlib as mpl\n",
    "def darken_color(color, p):\n",
    "    return (color[0]*p,color[1]*p,color[2]*p)\n",
    "\n",
    "colors = sns.color_palette(\"muted\") + [(.1, .1, .1)]\n",
    "for code, color in zip([\"bd\",\"gd\",\"rd\",\"md\",\"yd\",\"cd\",\"kd\"], colors):\n",
    "    rgb = mpl.colors.colorConverter.to_rgb(darken_color(color,0.8))\n",
    "    mpl.colors.colorConverter.colors[code] = rgb\n",
    "    mpl.colors.colorConverter.cache[code] = rgb"
   ]
  },
  {
   "cell_type": "markdown",
   "metadata": {},
   "source": [
    "Prepare variable list for reading the result files. `var_names` need to be changed for time-dependent results."
   ]
  },
  {
   "cell_type": "code",
   "execution_count": 3,
   "metadata": {},
   "outputs": [],
   "source": [
    "import os\n",
    "import glob\n",
    "var_types = (\"gen\", \"fit\", \"err\")\n",
    "var_names = (\"ap\", \"apa\", \"a0\", \"a0a\", \"at\", \"ata\")\n",
    "# var_names = (\"ap\", \"apa\", \"a0\", \"a0a\", \"at\", \"ata\", \"xp\", \"x0\", \"xt\", \"yp\", \"y0\", \"yt\", \"xbp\", \"xb0\", \"xbt\", \"ybp\", \"yb0\", \"ybt\")\n",
    "vars = ([var_name + \"_\" + var_type for var_name in var_names for var_type in var_types])"
   ]
  },
  {
   "cell_type": "code",
   "execution_count": 4,
   "metadata": {},
   "outputs": [
    {
     "name": "stdout",
     "output_type": "stream",
     "text": [
      "Num files in '../results/evtgen_ti': 25\n",
      "Num files in '../results/crscf_ti_funcscf': 20\n",
      "Num files in '../results/crscf_ti_kdescf': 20\n"
     ]
    }
   ],
   "source": [
    "dirs = [\n",
    "    '../results/evtgen_ti',\n",
    "    '../results/crscf_ti_funcscf',\n",
    "    '../results/crscf_ti_kdescf'\n",
    "]\n",
    "\n",
    "dfs = []\n",
    "for directory in dirs:\n",
    "    all_files = glob.glob(os.path.join(directory, \"*.result\"))\n",
    "    print(\"Num files in '\" + str(directory) + \"': \" + str(len(all_files)))\n",
    "    df_from_each_file = (pd.read_csv(f, sep=\" \\|\\| | \\| | \", header=None, names=vars, engine='python') for f in all_files)\n",
    "    df = pd.concat(df_from_each_file, ignore_index=True)\n",
    "    dfs.append(df)"
   ]
  },
  {
   "cell_type": "markdown",
   "metadata": {},
   "source": [
    "Calculate the pulls and display their means and then standard deviations."
   ]
  },
  {
   "cell_type": "code",
   "execution_count": 5,
   "metadata": {},
   "outputs": [],
   "source": [
    "dfs_pulls = []\n",
    "for i in range(0, len(dirs)):\n",
    "    df = dfs[i]\n",
    "    df_pulls_dict = {var : (df[var + \"_fit\"] - df[var + \"_gen\"])/df[var + \"_err\"] for var in var_names}\n",
    "    df_pulls = pd.DataFrame(df_pulls_dict)\n",
    "    dfs_pulls.append(df_pulls)"
   ]
  },
  {
   "cell_type": "code",
   "execution_count": 6,
   "metadata": {},
   "outputs": [
    {
     "name": "stdout",
     "output_type": "stream",
     "text": [
      "ap  |  +0.52 |  +1.45 |  -0.17 | \n",
      "apa |  +0.26 |  -4.01 |  -2.15 | \n",
      "a0  |  -0.68 |  +0.70 |  +2.80 | \n",
      "a0a |   +nan |   +nan |   +nan | \n",
      "at  |  +0.32 |  -2.56 |  -3.49 | \n",
      "ata |  -0.12 |  -1.97 |  -1.70 | \n"
     ]
    }
   ],
   "source": [
    "for var in var_names:\n",
    "    print(\"{:4}| \".format(var), end='')\n",
    "    for i in range(0, len(dirs)):\n",
    "        print(\"{:+6.2f} | \".format(dfs_pulls[i].mean()[var]), end='')\n",
    "    print()"
   ]
  },
  {
   "cell_type": "code",
   "execution_count": 7,
   "metadata": {
    "scrolled": true
   },
   "outputs": [
    {
     "name": "stdout",
     "output_type": "stream",
     "text": [
      "ap  | +0.82 | +0.90 | +0.92 | \n",
      "apa | +0.98 | +0.63 | +0.64 | \n",
      "a0  | +0.93 | +1.00 | +1.02 | \n",
      "a0a |  +nan |  +nan |  +nan | \n",
      "at  | +1.13 | +1.06 | +1.06 | \n",
      "ata | +0.91 | +0.95 | +0.97 | \n"
     ]
    }
   ],
   "source": [
    "for var in var_names:\n",
    "    print(\"{:4}| \".format(var), end='')\n",
    "    for i in range(0, len(dirs)):\n",
    "        print(\"{:+5.2f} | \".format(dfs_pulls[i].std()[var]), end='')\n",
    "    print()"
   ]
  },
  {
   "cell_type": "markdown",
   "metadata": {},
   "source": [
    "The following cell shows a distribution of pulls for all directories and all variables"
   ]
  },
  {
   "cell_type": "code",
   "execution_count": 8,
   "metadata": {
    "scrolled": false
   },
   "outputs": [
    {
     "name": "stdout",
     "output_type": "stream",
     "text": [
      "Plots for dir ../results/evtgen_ti\n"
     ]
    },
    {
     "data": {
      "image/png": "[encoded data removed]",
      "text/plain": [
       "<Figure size 648x432 with 6 Axes>"
      ]
     },
     "metadata": {
      "needs_background": "light"
     },
     "output_type": "display_data"
    },
    {
     "name": "stdout",
     "output_type": "stream",
     "text": [
      "Plots for dir ../results/crscf_ti_funcscf\n"
     ]
    },
    {
     "data": {
      "image/png": "[encoded data removed]",
      "text/plain": [
       "<Figure size 648x432 with 6 Axes>"
      ]
     },
     "metadata": {
      "needs_background": "light"
     },
     "output_type": "display_data"
    },
    {
     "name": "stdout",
     "output_type": "stream",
     "text": [
      "Plots for dir ../results/crscf_ti_kdescf\n"
     ]
    },
    {
     "data": {
      "image/png": "[encoded data removed]",
      "text/plain": [
       "<Figure size 648x432 with 6 Axes>"
      ]
     },
     "metadata": {
      "needs_background": "light"
     },
     "output_type": "display_data"
    }
   ],
   "source": [
    "plt.rcParams[\"figure.figsize\"] = [9,6]\n",
    "# plt.rcParams[\"figure.figsize\"] = [9,18]\n",
    "for i, dir in enumerate(dirs):\n",
    "    axs = dfs_pulls[i].hist(column=list(var_names), \n",
    "                            sharey=True, layout = (2, 3), range=(-5, 5), bins=10)\n",
    "#                             sharey=True, layout = (6, 3), range=(-5, 5), bins=10)\n",
    "    print(\"Plots for dir \" + dir)\n",
    "    plt.show()"
   ]
  },
  {
   "cell_type": "code",
   "execution_count": 9,
   "metadata": {},
   "outputs": [],
   "source": [
    "class Gaussian(GenericLikelihoodModel):\n",
    "    def __init__(self, endog, exog=None, **kwds):\n",
    "        #if exog is None:\n",
    "        #    exog = np.zeros_like(endog)\n",
    "            \n",
    "        super(Gaussian, self).__init__(endog, exog, **kwds)\n",
    "    \n",
    "    def nloglikeobs(self, params):\n",
    "        loc = params[0]\n",
    "        scale = params[1]\n",
    "\n",
    "        return -np.log(norm.pdf(self.endog, loc=loc, scale=scale))\n",
    "    \n",
    "    def fit(self, start_params=None, maxiter=10000, maxfun=5000, **kwds):\n",
    "        if start_params is None:\n",
    "            loc_start = self.endog.mean()\n",
    "            scale_start = self.endog.std()\n",
    "            \n",
    "            start_params = np.array([loc_start, scale_start])\n",
    "            \n",
    "        return super(Gaussian, self).fit(start_params=start_params,\n",
    "                                         maxiter=maxiter, maxfun=maxfun, **kwds)"
   ]
  },
  {
   "cell_type": "markdown",
   "metadata": {},
   "source": [
    "This fits the pull distributions with Gaussians and shows the uncertainties on the $\\mu$ and $\\sigma$ of each distribution. "
   ]
  },
  {
   "cell_type": "code",
   "execution_count": 10,
   "metadata": {
    "scrolled": false
   },
   "outputs": [
    {
     "name": "stdout",
     "output_type": "stream",
     "text": [
      "Results for dir ../results/evtgen_ti\n",
      "ap  : (+0.52 +- 0.16) +- (+0.80 +- 0.11)\n",
      "apa : (+0.26 +- 0.19) +- (+0.96 +- 0.14)\n",
      "a0  : (-0.68 +- 0.18) +- (+0.91 +- 0.13)\n",
      "at  : (+0.32 +- 0.22) +- (+1.11 +- 0.16)\n",
      "ata : (-0.12 +- 0.18) +- (+0.89 +- 0.13)\n",
      "\n",
      "Results for dir ../results/crscf_ti_funcscf\n",
      "ap  : (+1.45 +- 0.20) +- (+0.88 +- 0.14)\n",
      "apa : (-4.01 +- 0.14) +- (+0.61 +- 0.10)\n",
      "a0  : (+0.70 +- 0.22) +- (+0.98 +- 0.15)\n",
      "at  : (-2.56 +- 0.23) +- (+1.03 +- 0.16)\n",
      "ata : (-1.97 +- 0.21) +- (+0.92 +- 0.15)\n",
      "\n",
      "Results for dir ../results/crscf_ti_kdescf\n",
      "ap  : (-0.17 +- 0.20) +- (+0.90 +- 0.14)\n",
      "apa : (-2.15 +- 0.14) +- (+0.63 +- 0.10)\n",
      "a0  : (+2.80 +- 0.22) +- (+1.00 +- 0.16)\n",
      "at  : (-3.49 +- 0.23) +- (+1.03 +- 0.16)\n",
      "ata : (-1.70 +- 0.21) +- (+0.95 +- 0.15)\n",
      "\n"
     ]
    }
   ],
   "source": [
    "real_vars = list(var_names)\n",
    "real_vars.remove('a0a')\n",
    "\n",
    "for i, dir in enumerate(dirs):\n",
    "    print(\"Results for dir \" + dir)\n",
    "    for var in real_vars:\n",
    "        model = Gaussian(dfs_pulls[i][var]);\n",
    "        results = model.fit(disp=False);\n",
    "        print(\"{:4}: ({:+.2f} +- {:.2f}) +- ({:+.2f} +- {:.2f})\".format(\n",
    "            var, results.params[0], results.bse[0], results.params[1], results.bse[1]))\n",
    "    print()"
   ]
  },
  {
   "cell_type": "markdown",
   "metadata": {},
   "source": [
    "We now calculate the relative errors $|\\sigma/\\mu|$ for each variable and dataset"
   ]
  },
  {
   "cell_type": "code",
   "execution_count": 11,
   "metadata": {},
   "outputs": [
    {
     "name": "stdout",
     "output_type": "stream",
     "text": [
      "ap  |  0.0095 |  0.0092 |  0.0095 | \n",
      "apa |   0.028 |   0.032 |   0.031 | \n",
      "a0  | 0.00093 | 0.00091 |  0.0009 | \n",
      "a0a |     nan |     nan |     nan | \n",
      "at  |   0.015 |   0.015 |   0.016 | \n",
      "ata |  0.0046 |  0.0049 |   0.005 | \n"
     ]
    }
   ],
   "source": [
    "# Calculate relative errors\n",
    "dfs_relative_errors = []\n",
    "for i in range(0, len(dirs)):\n",
    "    df = dfs[i]\n",
    "    df_relative_errors_dict = {var : abs(df[var + \"_err\"]/df[var + \"_fit\"]) for var in var_names}\n",
    "    df_relative_errors = pd.DataFrame(df_relative_errors_dict)\n",
    "    dfs_relative_errors.append(df_relative_errors)\n",
    "#df_pulls = df_pulls.drop(list(var_names[0:6]), axis=1)\n",
    "\n",
    "# Display relative errors in a table\n",
    "for var in var_names:\n",
    "    print(\"{:4}| \".format(var), end='')\n",
    "    for i, dir in enumerate(dirs):\n",
    "        print(\"{:7.2} | \".format(dfs_relative_errors[i].mean()[var]), end='')\n",
    "    print()"
   ]
  },
  {
   "cell_type": "markdown",
   "metadata": {},
   "source": [
    "This might be useful if we want to plot the fitted Gaussian on top of the histograms."
   ]
  },
  {
   "cell_type": "code",
   "execution_count": 12,
   "metadata": {},
   "outputs": [
    {
     "name": "stdout",
     "output_type": "stream",
     "text": [
      "tau = 0.258 +- 0.959 ps\n"
     ]
    },
    {
     "data": {
      "image/png": "[encoded data removed]",
      "text/plain": [
       "<Figure size 648x432 with 1 Axes>"
      ]
     },
     "metadata": {
      "needs_background": "light"
     },
     "output_type": "display_data"
    }
   ],
   "source": [
    "fig = plt.figure()\n",
    "ax = fig.add_subplot(111)\n",
    "ax.set_xlabel(\"$\\\\tau$ [ps]\")\n",
    "#ax.set_xlim(1.5, 1.57)\n",
    "\n",
    "data = dfs_pulls[0].apa\n",
    "\n",
    "# Create histogram and calculate area under it for\n",
    "# renormalization of fitted PDF\n",
    "n, bins, patches = plt.hist(data, bins=20, edgecolor=darken_color(sns.color_palette(\"muted\")[0], 0.8))\n",
    "area = np.sum(np.diff(bins)*n)\n",
    "\n",
    "mu, sigma = norm.fit(data)\n",
    "\n",
    "# Create a bunch of equidistant points to calculate the \n",
    "# function values at (many points to make it look smooth)\n",
    "x = np.linspace(data.min(), data.max(), 100)\n",
    "norm_fitted = norm.pdf(x, mu, sigma)*area\n",
    "plt.plot(x, norm_fitted)\n",
    "print(\"tau = {:.3f} +- {:.3f} ps\".format(mu, sigma))"
   ]
  },
  {
   "cell_type": "code",
   "execution_count": null,
   "metadata": {},
   "outputs": [],
   "source": []
  }
 ],
 "metadata": {
  "kernelspec": {
   "display_name": "Python 3",
   "language": "python",
   "name": "python3"
  },
  "language_info": {
   "codemirror_mode": {
    "name": "ipython",
    "version": 3
   },
   "file_extension": ".py",
   "mimetype": "text/x-python",
   "name": "python",
   "nbconvert_exporter": "python",
   "pygments_lexer": "ipython3",
   "version": "3.6.7"
  }
 },
 "nbformat": 4,
 "nbformat_minor": 2
}
