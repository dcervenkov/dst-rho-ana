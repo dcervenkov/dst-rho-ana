{
 "cells": [
  {
   "cell_type": "code",
   "execution_count": null,
   "metadata": {},
   "outputs": [],
   "source": [
    "%matplotlib inline\n",
    "import matplotlib.pyplot as plt\n",
    "import numpy as np\n",
    "import pandas as pd\n",
    "from scipy.optimize import curve_fit\n",
    "from scipy.stats import norm\n",
    "from statsmodels.base.model import GenericLikelihoodModel\n",
    "import seaborn as sns\n",
    "sns.set_palette(\"muted\")\n",
    "sns.set_color_codes()\n",
    "sns.set_style(\"ticks\")\n",
    "sns.set_style({\"xtick.direction\": \"in\",\"ytick.direction\": \"in\"})\n",
    "sns.set_style({\"axes.grid\": \"True\", \"grid.color\": \"0.95\"})"
   ]
  },
  {
   "cell_type": "code",
   "execution_count": null,
   "metadata": {},
   "outputs": [],
   "source": [
    "plt.rcParams[\"figure.figsize\"] = [6,6]\n",
    "plt.rcParams[\"figure.dpi\"] = 100"
   ]
  },
  {
   "cell_type": "code",
   "execution_count": null,
   "metadata": {},
   "outputs": [],
   "source": [
    "blue = (114/256, 147/256, 203/256)\n",
    "orange = (225/256, 151/256,  76/256)\n",
    "green = (132/256, 186/256,  91/256)\n",
    "red = (211/256,  94/256,  96/256)\n",
    "grey = (128/256, 133/256, 133/256)\n",
    "violet = (144/256, 103/256, 167/256)\n",
    "brown = (171/256, 104/256,  87/256)\n",
    "yellow = (204/256, 194/256,  16/256)"
   ]
  },
  {
   "cell_type": "code",
   "execution_count": null,
   "metadata": {},
   "outputs": [],
   "source": [
    "SMALL_SIZE = 14\n",
    "MEDIUM_SIZE = 16\n",
    "BIGGER_SIZE = 18\n",
    "\n",
    "plt.rc('font', size=SMALL_SIZE)          # controls default text sizes\n",
    "plt.rc('axes', titlesize=SMALL_SIZE)     # fontsize of the axes title\n",
    "plt.rc('axes', labelsize=MEDIUM_SIZE)    # fontsize of the x and y labels\n",
    "plt.rc('xtick', labelsize=SMALL_SIZE)    # fontsize of the tick labels\n",
    "plt.rc('ytick', labelsize=SMALL_SIZE)    # fontsize of the tick labels\n",
    "plt.rc('legend', fontsize=SMALL_SIZE)    # legend fontsize\n",
    "plt.rc('figure', titlesize=BIGGER_SIZE)  # fontsize of the figure title"
   ]
  },
  {
   "cell_type": "code",
   "execution_count": null,
   "metadata": {},
   "outputs": [],
   "source": [
    "variables = [\n",
    "    'phit',\n",
    "    'thetab',\n",
    "    'thetat',\n",
    "    'vrusable',\n",
    "    'vtusable',\n",
    "    'vrchi2',\n",
    "    'vtchi2',\n",
    "    'vrndf',\n",
    "    'vtndf',\n",
    "    'vrntrk',\n",
    "    'vtntrk',\n",
    "    'vrerr6',\n",
    "    'vterr6',\n",
    "    'evmcflag',\n",
    "    'csbdtg',\n",
    "    'de',\n",
    "    'dt',\n",
    "    'nocand'\n",
    "]"
   ]
  },
  {
   "cell_type": "code",
   "execution_count": null,
   "metadata": {},
   "outputs": [],
   "source": [
    "def apply_cuts(df):\n",
    "    return df[ \n",
    "        (df.vrusable == 1) &\n",
    "        (df.vtusable == 1) &\n",
    "        (((df.vrchi2/df.vrndf) < 50) | (df.vrntrk == 1)) &\n",
    "        (((df.vtchi2/df.vtndf) < 50) | (df.vtntrk == 1)) &\n",
    "        (((np.sqrt(df.vrerr6) < 0.02) & (df.vrntrk > 1)) | ((np.sqrt(df.vrerr6) < 0.05) & (df.vrntrk == 1))) &\n",
    "        (((np.sqrt(df.vterr6) < 0.02) & (df.vtntrk > 1)) | ((np.sqrt(df.vterr6) < 0.05) & (df.vtntrk == 1))) &\n",
    "        (df.csbdtg > -0.6) &\n",
    "        ((df.de > -0.14) & (df.de < 0.068)) &\n",
    "        ((df.dt > -10) & (df.dt < 10)) &\n",
    "        (df.thetab > 0.65) & (df.thetab < 2.95) &\n",
    "        (df.nocand <= 3)\n",
    "    ]"
   ]
  },
  {
   "cell_type": "code",
   "execution_count": null,
   "metadata": {},
   "outputs": [],
   "source": [
    "import uproot\n",
    "\n",
    "def get_dataframe(paths, branches=None):\n",
    "    assert paths, \"No paths supplied\"\n",
    "    df = pd.DataFrame()\n",
    "    for path in paths:\n",
    "        temp_df = uproot.open(path)['h2000'].pandas.df()\n",
    "        temp_df = apply_cuts(temp_df)\n",
    "        if branches:\n",
    "            if isinstance(branches, str):\n",
    "                branches = [branches]\n",
    "            df = df.append(temp_df[branches])\n",
    "        else:\n",
    "            df = df.append(temp_df)\n",
    "    return df"
   ]
  },
  {
   "cell_type": "code",
   "execution_count": null,
   "metadata": {},
   "outputs": [],
   "source": [
    "import glob\n",
    "\n",
    "df_mcbkg = get_dataframe(glob.glob(\"../data/Kpi/mc_wo_signal/*0.root\"), variables)\n",
    "df_mcsideb = get_dataframe(glob.glob(\"../data/Kpi/sidebands/mc/*0.root\"), variables)\n",
    "df_datasideb = get_dataframe(glob.glob(\"../data/Kpi/sidebands/*.root\"), variables)"
   ]
  },
  {
   "cell_type": "code",
   "execution_count": null,
   "metadata": {},
   "outputs": [],
   "source": [
    "def plot_with_ratio(datasets, labels, xlabel, colors):\n",
    "    fig, (ax1, ax2) = plt.subplots(nrows=2, \n",
    "                                   sharex=True, \n",
    "                                   gridspec_kw = {'height_ratios':[3, 1]})\n",
    "\n",
    "    fig.subplots_adjust(hspace=0.1)\n",
    "\n",
    "    ns, bins, patches = ax1.hist([datasets[0], datasets[1]],\n",
    "                                histtype=\"step\",\n",
    "                                bins=30,\n",
    "                                linewidth=1,\n",
    "                                color=colors,\n",
    "                                label=labels)\n",
    "\n",
    "    ax1.legend()\n",
    "    plt.xlabel(xlabel)\n",
    "\n",
    "    ratios = ns[0]/ns[1]\n",
    "    errors = ns[0]/ns[1]*np.sqrt(1/ns[0] + 1/ns[1])\n",
    "    \n",
    "    ax2.errorbar(x=bins[:-1], \n",
    "                 y=ratios, \n",
    "                 yerr=errors, \n",
    "                 fmt='o',\n",
    "                 color=grey)\n",
    "    \n",
    "    # Sets maximal number of ticks\n",
    "    ax2.yaxis.set_major_locator(plt.MaxNLocator(5))\n",
    "\n",
    "    ax1.set_ylabel('Data')\n",
    "    ax2.set_ylabel('Ratio')\n",
    "    \n",
    "    fig.savefig('{xlabel}_{label1}_{label2}.pdf'.format(xlabel=datasets[0].name, \n",
    "                                                        label1=labels[0].replace(\" \", \"_\").replace(\".\",\"\"), \n",
    "                                                        label2=labels[1].replace(\" \", \"_\").replace(\".\",\"\")),\n",
    "                format=\"pdf\", bbox_inches = 'tight')"
   ]
  },
  {
   "cell_type": "code",
   "execution_count": null,
   "metadata": {},
   "outputs": [],
   "source": [
    "datasets = (df_mcsideb.thetat, df_datasideb.thetat)\n",
    "xlabel = r'$\\theta_t$ [rad]'\n",
    "labels = ['MC sideb.', 'data sideb.']\n",
    "colors = [blue, green]\n",
    "plot_with_ratio(datasets, labels, xlabel, colors)"
   ]
  },
  {
   "cell_type": "code",
   "execution_count": null,
   "metadata": {},
   "outputs": [],
   "source": [
    "datasets = (df_mcsideb.thetab, df_datasideb.thetab)\n",
    "xlabel = r'$\\theta_b$ [rad]'\n",
    "labels = ['MC sideb.', 'data sideb.']\n",
    "colors = [blue, green]\n",
    "plot_with_ratio(datasets, labels, xlabel, colors)"
   ]
  },
  {
   "cell_type": "code",
   "execution_count": null,
   "metadata": {},
   "outputs": [],
   "source": [
    "datasets = (df_mcsideb.phit, df_datasideb.phit)\n",
    "xlabel = r'$\\phi_t$ [rad]'\n",
    "labels = ['MC sideb.', 'data sideb.']\n",
    "colors = [blue, green]\n",
    "plot_with_ratio(datasets, labels, xlabel, colors)"
   ]
  },
  {
   "cell_type": "code",
   "execution_count": null,
   "metadata": {},
   "outputs": [],
   "source": [
    "datasets = (df_mcbkg.thetat, df_datasideb.thetat)\n",
    "xlabel = r'$\\theta_t$ [rad]'\n",
    "labels = ['MC bkg.', 'data sideb.']\n",
    "colors = [red, green]\n",
    "plot_with_ratio(datasets, labels, xlabel, colors)"
   ]
  },
  {
   "cell_type": "code",
   "execution_count": null,
   "metadata": {},
   "outputs": [],
   "source": [
    "datasets = (df_mcbkg.thetab, df_datasideb.thetab)\n",
    "xlabel = r'$\\theta_b$ [rad]'\n",
    "labels = ['MC bkg.', 'data sideb.']\n",
    "colors = [red, green]\n",
    "plot_with_ratio(datasets, labels, xlabel, colors)"
   ]
  },
  {
   "cell_type": "code",
   "execution_count": null,
   "metadata": {},
   "outputs": [],
   "source": [
    "datasets = (df_mcbkg.phit, df_datasideb.phit)\n",
    "xlabel = r'$\\phi_t$ [rad]'\n",
    "labels = ['MC bkg.', 'data sideb.']\n",
    "colors = [red, green]\n",
    "plot_with_ratio(datasets, labels, xlabel, colors)"
   ]
  },
  {
   "cell_type": "code",
   "execution_count": null,
   "metadata": {},
   "outputs": [],
   "source": [
    "datasets = (df_mcbkg.thetat, df_mcsideb.thetat)\n",
    "xlabel = r'$\\theta_t$ [rad]'\n",
    "labels = ['MC bkg.', 'MC sideb.']\n",
    "colors = [red, blue]\n",
    "plot_with_ratio(datasets, labels, xlabel, colors)"
   ]
  },
  {
   "cell_type": "code",
   "execution_count": null,
   "metadata": {},
   "outputs": [],
   "source": [
    "datasets = (df_mcbkg.thetab, df_mcsideb.thetab)\n",
    "xlabel = r'$\\theta_b$ [rad]'\n",
    "labels = ['MC bkg.', 'MC sideb.']\n",
    "colors = [red, blue]\n",
    "plot_with_ratio(datasets, labels, xlabel, colors)"
   ]
  },
  {
   "cell_type": "code",
   "execution_count": null,
   "metadata": {},
   "outputs": [],
   "source": [
    "datasets = (df_mcbkg.phit, df_mcsideb.phit)\n",
    "xlabel = r'$\\phi_t$ [rad]'\n",
    "labels = ['MC bkg.', 'MC sideb.']\n",
    "colors = [red, blue]\n",
    "plot_with_ratio(datasets, labels, xlabel, colors)"
   ]
  },
  {
   "cell_type": "code",
   "execution_count": null,
   "metadata": {},
   "outputs": [],
   "source": []
  }
 ],
 "metadata": {
  "kernelspec": {
   "display_name": "Python 3",
   "language": "python",
   "name": "python3"
  },
  "language_info": {
   "codemirror_mode": {
    "name": "ipython",
    "version": 3
   },
   "file_extension": ".py",
   "mimetype": "text/x-python",
   "name": "python",
   "nbconvert_exporter": "python",
   "pygments_lexer": "ipython3",
   "version": "3.6.9"
  }
 },
 "nbformat": 4,
 "nbformat_minor": 2
}
