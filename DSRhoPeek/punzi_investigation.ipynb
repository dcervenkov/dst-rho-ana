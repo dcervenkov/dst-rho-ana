{
 "cells": [
  {
   "cell_type": "code",
   "execution_count": null,
   "metadata": {},
   "outputs": [],
   "source": [
    "%matplotlib inline\n",
    "import matplotlib.pyplot as plt\n",
    "import numpy as np\n",
    "import pandas as pd\n",
    "from scipy.optimize import curve_fit\n",
    "from scipy.stats import norm\n",
    "from statsmodels.base.model import GenericLikelihoodModel\n",
    "import seaborn as sns\n",
    "sns.set_palette(\"muted\")\n",
    "sns.set_color_codes()\n",
    "sns.set_style(\"ticks\")\n",
    "sns.set_style({\"xtick.direction\": \"in\",\"ytick.direction\": \"in\"})\n",
    "sns.set_style({\"axes.grid\": \"True\", \"grid.color\": \"0.95\"})"
   ]
  },
  {
   "cell_type": "code",
   "execution_count": null,
   "metadata": {},
   "outputs": [],
   "source": [
    "plt.rcParams[\"figure.figsize\"] = [6,6]\n",
    "plt.rcParams[\"figure.dpi\"] = 100"
   ]
  },
  {
   "cell_type": "code",
   "execution_count": null,
   "metadata": {},
   "outputs": [],
   "source": [
    "blue = (114/256, 147/256, 203/256)\n",
    "orange = (225/256, 151/256,  76/256)\n",
    "green = (132/256, 186/256,  91/256)\n",
    "red = (211/256,  94/256,  96/256)\n",
    "grey = (128/256, 133/256, 133/256)\n",
    "violet = (144/256, 103/256, 167/256)\n",
    "brown = (171/256, 104/256,  87/256)\n",
    "yellow = (204/256, 194/256,  16/256)"
   ]
  },
  {
   "cell_type": "code",
   "execution_count": null,
   "metadata": {},
   "outputs": [],
   "source": [
    "SMALL_SIZE = 14\n",
    "MEDIUM_SIZE = 16\n",
    "BIGGER_SIZE = 18\n",
    "\n",
    "plt.rc('font', size=SMALL_SIZE)          # controls default text sizes\n",
    "plt.rc('axes', titlesize=SMALL_SIZE)     # fontsize of the axes title\n",
    "plt.rc('axes', labelsize=MEDIUM_SIZE)    # fontsize of the x and y labels\n",
    "plt.rc('xtick', labelsize=SMALL_SIZE)    # fontsize of the tick labels\n",
    "plt.rc('ytick', labelsize=SMALL_SIZE)    # fontsize of the tick labels\n",
    "plt.rc('legend', fontsize=SMALL_SIZE)    # legend fontsize\n",
    "plt.rc('figure', titlesize=BIGGER_SIZE)  # fontsize of the figure title"
   ]
  },
  {
   "cell_type": "code",
   "execution_count": null,
   "metadata": {},
   "outputs": [],
   "source": [
    "import root_pandas as rpd\n",
    "import glob\n",
    "\n",
    "variables = [\n",
    "    'phit',\n",
    "    'thetab',\n",
    "    'thetat',\n",
    "    'vrusable',\n",
    "    'vtusable',\n",
    "    'vrchi2',\n",
    "    'vtchi2',\n",
    "    'vrndf',\n",
    "    'vtndf',\n",
    "    'vrntrk',\n",
    "    'vtntrk',\n",
    "    'vrerr6',\n",
    "    'vterr6',\n",
    "    'vtistagl',\n",
    "    'evmcflag',\n",
    "    'csbdtg',\n",
    "    'shcosthb',\n",
    "    'benergy',\n",
    "    'mbc',\n",
    "    'de',\n",
    "    'dt'\n",
    "]\n",
    "\n",
    "df_mcsig = rpd.read_root(glob.glob(\"../data/Kpi/realistic_mc/DSRho-*.root\"), columns=variables)\n",
    "df_mcbkg = rpd.read_root(glob.glob(\"../data/Kpi/realistic_mc/DSRhoSkim*.root\"), columns=variables)"
   ]
  },
  {
   "cell_type": "markdown",
   "metadata": {},
   "source": [
    "### Apply cuts to datasets"
   ]
  },
  {
   "cell_type": "code",
   "execution_count": null,
   "metadata": {},
   "outputs": [],
   "source": [
    "def apply_cuts(df):\n",
    "    return df[ \n",
    "        (df.vrusable == 1) &\n",
    "        (df.vtusable == 1) &\n",
    "        (((df.vrchi2/df.vrndf) < 50) | (df.vrntrk == 1)) &\n",
    "        (((df.vtchi2/df.vtndf) < 50) | (df.vtntrk == 1)) &\n",
    "        (((np.sqrt(df.vrerr6) < 0.02) & (df.vrntrk > 1)) | ((np.sqrt(df.vrerr6) < 0.05) & (df.vrntrk == 1))) &\n",
    "        (((np.sqrt(df.vterr6) < 0.02) & (df.vtntrk > 1)) | ((np.sqrt(df.vterr6) < 0.05) & (df.vtntrk == 1))) &\n",
    "        (df.csbdtg > -0.6) &\n",
    "        ((df.de > -0.14) & (df.de < 0.068)) &\n",
    "        ((df.dt > -10) & (df.dt < 10)) &\n",
    "        (df.thetab > 0.5)\n",
    "    ]\n",
    "\n",
    "def apply_evmcflag_cut(df, cr):\n",
    "    if cr:\n",
    "        return df[ \n",
    "            (df.evmcflag == 1)\n",
    "        ]\n",
    "    else:\n",
    "        return df[ \n",
    "            (df.evmcflag != 1)\n",
    "        ]\n",
    "\n",
    "df_mcbkg = apply_cuts(df_mcbkg)\n",
    "df_mcsig = apply_cuts(df_mcsig)\n",
    "df_mccr = apply_evmcflag_cut(df_mcsig, 1)\n",
    "df_mcscf = apply_evmcflag_cut(df_mcsig, 0)"
   ]
  },
  {
   "cell_type": "code",
   "execution_count": null,
   "metadata": {},
   "outputs": [],
   "source": [
    "def plot_with_ratio(datasets, labels, xlabel, colors):\n",
    "    fig, (ax1, ax2) = plt.subplots(nrows=2, \n",
    "                                   sharex=True, \n",
    "                                   gridspec_kw = {'height_ratios':[3, 1]})\n",
    "\n",
    "    fig.subplots_adjust(hspace=0.1)\n",
    "\n",
    "    ns, bins, patches = ax1.hist([datasets[0], datasets[1]],\n",
    "                                histtype=\"step\",\n",
    "                                bins=50,\n",
    "                                linewidth=1,\n",
    "                                color=colors,\n",
    "                                label=labels)\n",
    "\n",
    "    ax1.legend()\n",
    "    plt.xlabel(xlabel)\n",
    "\n",
    "    ratios = ns[0]/ns[1]\n",
    "    errors = ns[0]/ns[1]*np.sqrt(1/ns[0] + 1/ns[1])\n",
    "    \n",
    "    ax2.errorbar(x=bins[:-1], \n",
    "                 y=ratios, \n",
    "                 yerr=errors, \n",
    "                 fmt='o',\n",
    "                 color=grey)\n",
    "    \n",
    "    # Sets maximal number of ticks\n",
    "    ax2.yaxis.set_major_locator(plt.MaxNLocator(5))\n",
    "\n",
    "    ax1.set_ylabel('Data')\n",
    "    ax2.set_ylabel('Ratio')\n",
    "    \n",
    "    fig.savefig('{xlabel}_{label1}_{label2}.pdf'.format(xlabel=datasets[0].name, \n",
    "                                                        label1=labels[0].replace(\" \", \"_\").replace(\".\",\"\"), \n",
    "                                                        label2=labels[1].replace(\" \", \"_\").replace(\".\",\"\")),\n",
    "                format=\"pdf\", bbox_inches = 'tight')"
   ]
  },
  {
   "cell_type": "code",
   "execution_count": null,
   "metadata": {},
   "outputs": [],
   "source": [
    "datasets = (df_mccr.vrchi2, df_mcscf.vrchi2)\n",
    "xlabel = r'vrchi2'\n",
    "labels = ['MC CR', 'MC SCF']\n",
    "colors = [green, violet]\n",
    "plot_with_ratio(datasets, labels, xlabel, colors)"
   ]
  },
  {
   "cell_type": "code",
   "execution_count": null,
   "metadata": {},
   "outputs": [],
   "source": [
    "datasets = (df_mccr.vrchi2, df_mcbkg.vrchi2)\n",
    "xlabel = r'vrchi2'\n",
    "labels = ['MC CR', 'MC BKG']\n",
    "colors = [green, red]\n",
    "plot_with_ratio(datasets, labels, xlabel, colors)"
   ]
  },
  {
   "cell_type": "code",
   "execution_count": null,
   "metadata": {},
   "outputs": [],
   "source": [
    "datasets = (df_mccr.vtchi2, df_mcscf.vtchi2)\n",
    "xlabel = r'vtchi2'\n",
    "labels = ['MC CR', 'MC SCF']\n",
    "colors = [green, violet]\n",
    "plot_with_ratio(datasets, labels, xlabel, colors)"
   ]
  },
  {
   "cell_type": "code",
   "execution_count": null,
   "metadata": {},
   "outputs": [],
   "source": [
    "datasets = (df_mccr.vtchi2, df_mcbkg.vtchi2)\n",
    "xlabel = r'vtchi2'\n",
    "labels = ['MC CR', 'MC BKG']\n",
    "colors = [green, red]\n",
    "plot_with_ratio(datasets, labels, xlabel, colors)"
   ]
  },
  {
   "cell_type": "code",
   "execution_count": null,
   "metadata": {},
   "outputs": [],
   "source": [
    "datasets = (df_mccr.vrndf, df_mcscf.vrndf)\n",
    "xlabel = r'vrndf'\n",
    "labels = ['MC CR', 'MC SCF']\n",
    "colors = [green, violet]\n",
    "plot_with_ratio(datasets, labels, xlabel, colors)"
   ]
  },
  {
   "cell_type": "code",
   "execution_count": null,
   "metadata": {},
   "outputs": [],
   "source": [
    "datasets = (df_mccr.vrndf, df_mcbkg.vrndf)\n",
    "xlabel = r'vrndf'\n",
    "labels = ['MC CR', 'MC BKG']\n",
    "colors = [green, red]\n",
    "plot_with_ratio(datasets, labels, xlabel, colors)"
   ]
  },
  {
   "cell_type": "code",
   "execution_count": null,
   "metadata": {},
   "outputs": [],
   "source": [
    "datasets = (df_mccr.vtndf, df_mcscf.vtndf)\n",
    "xlabel = r'vtndf'\n",
    "labels = ['MC CR', 'MC SCF']\n",
    "colors = [green, violet]\n",
    "plot_with_ratio(datasets, labels, xlabel, colors)"
   ]
  },
  {
   "cell_type": "code",
   "execution_count": null,
   "metadata": {},
   "outputs": [],
   "source": [
    "datasets = (df_mccr.vtndf, df_mcbkg.vtndf)\n",
    "xlabel = r'vtndf'\n",
    "labels = ['MC CR', 'MC BKG']\n",
    "colors = [green, red]\n",
    "plot_with_ratio(datasets, labels, xlabel, colors)"
   ]
  },
  {
   "cell_type": "code",
   "execution_count": null,
   "metadata": {},
   "outputs": [],
   "source": [
    "datasets = (df_mccr.vrntrk, df_mcscf.vrntrk)\n",
    "xlabel = r'vrntrk'\n",
    "labels = ['MC CR', 'MC SCF']\n",
    "colors = [green, violet]\n",
    "plot_with_ratio(datasets, labels, xlabel, colors)"
   ]
  },
  {
   "cell_type": "code",
   "execution_count": null,
   "metadata": {},
   "outputs": [],
   "source": [
    "datasets = (df_mccr.vrntrk, df_mcbkg.vrntrk)\n",
    "xlabel = r'vrntrk'\n",
    "labels = ['MC CR', 'MC BKG']\n",
    "colors = [green, red]\n",
    "plot_with_ratio(datasets, labels, xlabel, colors)"
   ]
  },
  {
   "cell_type": "code",
   "execution_count": null,
   "metadata": {},
   "outputs": [],
   "source": [
    "datasets = (df_mccr.vtntrk, df_mcscf.vtntrk)\n",
    "xlabel = r'vtntrk'\n",
    "labels = ['MC CR', 'MC SCF']\n",
    "colors = [green, violet]\n",
    "plot_with_ratio(datasets, labels, xlabel, colors)"
   ]
  },
  {
   "cell_type": "code",
   "execution_count": null,
   "metadata": {},
   "outputs": [],
   "source": [
    "datasets = (df_mccr.vtntrk, df_mcbkg.vtntrk)\n",
    "xlabel = r'vtntrk'\n",
    "labels = ['MC CR', 'MC BKG']\n",
    "colors = [green, red]\n",
    "plot_with_ratio(datasets, labels, xlabel, colors)"
   ]
  },
  {
   "cell_type": "code",
   "execution_count": null,
   "metadata": {},
   "outputs": [],
   "source": [
    "datasets = (np.sqrt(df_mccr.vrerr6), np.sqrt(df_mcscf.vrerr6))\n",
    "xlabel = r'vrzerr'\n",
    "labels = ['MC CR', 'MC SCF']\n",
    "colors = [green, violet]\n",
    "plot_with_ratio(datasets, labels, xlabel, colors)"
   ]
  },
  {
   "cell_type": "code",
   "execution_count": null,
   "metadata": {},
   "outputs": [],
   "source": [
    "datasets = (np.sqrt(df_mccr.vrerr6), np.sqrt(df_mcbkg.vrerr6))\n",
    "xlabel = r'vrzerr'\n",
    "labels = ['MC CR', 'MC BKG']\n",
    "colors = [green, red]\n",
    "plot_with_ratio(datasets, labels, xlabel, colors)"
   ]
  },
  {
   "cell_type": "code",
   "execution_count": null,
   "metadata": {},
   "outputs": [],
   "source": [
    "datasets = (np.sqrt(df_mccr.vterr6), np.sqrt(df_mcscf.vterr6))\n",
    "xlabel = r'vtzerr'\n",
    "labels = ['MC CR', 'MC SCF']\n",
    "colors = [green, violet]\n",
    "plot_with_ratio(datasets, labels, xlabel, colors)"
   ]
  },
  {
   "cell_type": "code",
   "execution_count": null,
   "metadata": {},
   "outputs": [],
   "source": [
    "datasets = (np.sqrt(df_mccr.vterr6), np.sqrt(df_mcbkg.vterr6))\n",
    "xlabel = r'vtzerr'\n",
    "labels = ['MC CR', 'MC BKG']\n",
    "colors = [green, red]\n",
    "plot_with_ratio(datasets, labels, xlabel, colors)"
   ]
  },
  {
   "cell_type": "code",
   "execution_count": null,
   "metadata": {},
   "outputs": [],
   "source": [
    "datasets = (df_mccr.vtistagl, df_mcscf.vtistagl)\n",
    "xlabel = r'vtistagl'\n",
    "labels = ['MC CR', 'MC SCF']\n",
    "colors = [green, violet]\n",
    "plot_with_ratio(datasets, labels, xlabel, colors)"
   ]
  },
  {
   "cell_type": "code",
   "execution_count": null,
   "metadata": {},
   "outputs": [],
   "source": [
    "datasets = (df_mccr.vtistagl, df_mcbkg.vtistagl)\n",
    "xlabel = r'vtistagl'\n",
    "labels = ['MC CR', 'MC BKG']\n",
    "colors = [green, red]\n",
    "plot_with_ratio(datasets, labels, xlabel, colors)"
   ]
  },
  {
   "cell_type": "code",
   "execution_count": null,
   "metadata": {},
   "outputs": [],
   "source": [
    "datasets = (df_mccr.shcosthb, df_mcscf.shcosthb)\n",
    "xlabel = r'shcosthb'\n",
    "labels = ['MC CR', 'MC SCF']\n",
    "colors = [green, violet]\n",
    "plot_with_ratio(datasets, labels, xlabel, colors)"
   ]
  },
  {
   "cell_type": "code",
   "execution_count": null,
   "metadata": {},
   "outputs": [],
   "source": [
    "datasets = (df_mccr.shcosthb, df_mcbkg.shcosthb)\n",
    "xlabel = r'shcosthb'\n",
    "labels = ['MC CR', 'MC BKG']\n",
    "colors = [green, red]\n",
    "plot_with_ratio(datasets, labels, xlabel, colors)"
   ]
  },
  {
   "cell_type": "code",
   "execution_count": null,
   "metadata": {},
   "outputs": [],
   "source": [
    "datasets = (df_mccr.benergy, df_mcscf.benergy)\n",
    "xlabel = r'benergy'\n",
    "labels = ['MC CR', 'MC SCF']\n",
    "colors = [green, violet]\n",
    "plot_with_ratio(datasets, labels, xlabel, colors)"
   ]
  },
  {
   "cell_type": "code",
   "execution_count": null,
   "metadata": {},
   "outputs": [],
   "source": [
    "datasets = (df_mccr.benergy, df_mcbkg.benergy)\n",
    "xlabel = r'benergy'\n",
    "labels = ['MC CR', 'MC BKG']\n",
    "colors = [green, red]\n",
    "plot_with_ratio(datasets, labels, xlabel, colors)"
   ]
  },
  {
   "cell_type": "code",
   "execution_count": null,
   "metadata": {},
   "outputs": [],
   "source": [
    "datasets = (df_mccr.mbc, df_mcscf.mbc)\n",
    "xlabel = r'mbc'\n",
    "labels = ['MC CR', 'MC SCF']\n",
    "colors = [green, violet]\n",
    "plot_with_ratio(datasets, labels, xlabel, colors)"
   ]
  },
  {
   "cell_type": "code",
   "execution_count": null,
   "metadata": {},
   "outputs": [],
   "source": [
    "datasets = (df_mccr.mbc, df_mcbkg.mbc)\n",
    "xlabel = r'mbc'\n",
    "labels = ['MC CR', 'MC BKG']\n",
    "colors = [green, red]\n",
    "plot_with_ratio(datasets, labels, xlabel, colors)"
   ]
  },
  {
   "cell_type": "code",
   "execution_count": null,
   "metadata": {},
   "outputs": [],
   "source": []
  }
 ],
 "metadata": {
  "kernelspec": {
   "display_name": "Python 3",
   "language": "python",
   "name": "python3"
  },
  "language_info": {
   "codemirror_mode": {
    "name": "ipython",
    "version": 3
   },
   "file_extension": ".py",
   "mimetype": "text/x-python",
   "name": "python",
   "nbconvert_exporter": "python",
   "pygments_lexer": "ipython3",
   "version": "3.6.9"
  }
 },
 "nbformat": 4,
 "nbformat_minor": 2
}
