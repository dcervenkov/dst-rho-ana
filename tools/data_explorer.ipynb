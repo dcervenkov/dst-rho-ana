{
 "cells": [
  {
   "cell_type": "markdown",
   "metadata": {
    "collapsed": "true"
   },
   "source": [
    "## Initialization Cells"
   ]
  },
  {
   "cell_type": "code",
   "execution_count": null,
   "metadata": {
    "ExecuteTime": {
     "end_time": "2020-08-11T18:31:08.019904Z",
     "start_time": "2020-08-11T18:31:07.369545Z"
    }
   },
   "outputs": [],
   "source": [
    "# Standard includes\n",
    "%matplotlib inline\n",
    "# %matplotlib widget\n",
    "import glob\n",
    "import json\n",
    "\n",
    "import matplotlib.pyplot as plt\n",
    "import numpy as np\n",
    "import pandas as pd\n",
    "import uproot\n",
    "\n",
    "# from scipy.optimize import curve_fit\n",
    "# from scipy.stats import norm\n",
    "# from statsmodels.base.model import GenericLikelihoodModel"
   ]
  },
  {
   "cell_type": "code",
   "execution_count": null,
   "metadata": {
    "ExecuteTime": {
     "end_time": "2020-08-11T18:31:08.412383Z",
     "start_time": "2020-08-11T18:31:08.022493Z"
    }
   },
   "outputs": [],
   "source": [
    "# Style setup\n",
    "import seaborn as sns\n",
    "\n",
    "sns.set_palette(\"muted\")\n",
    "sns.set_color_codes()\n",
    "sns.set_style(\"ticks\")\n",
    "sns.set_style({\"xtick.direction\": \"in\", \"ytick.direction\": \"in\"})\n",
    "sns.set_style({\"axes.grid\": \"True\", \"grid.color\": \"0.95\"})\n",
    "\n",
    "plt.rcParams[\"figure.figsize\"] = [6, 6]\n",
    "plt.rcParams[\"figure.dpi\"] = 100\n",
    "plt.rcParams['legend.fontsize'] = 20\n",
    "\n",
    "def darken_color(color, p):\n",
    "    return (color[0] * p, color[1] * p, color[2] * p)\n",
    "\n",
    "\n",
    "import matplotlib as mpl\n",
    "\n",
    "colors = sns.color_palette(\"muted\") + [(0.1, 0.1, 0.1)]\n",
    "for code, color in zip([\"bd\", \"gd\", \"rd\", \"md\", \"yd\", \"cd\", \"kd\"], colors):\n",
    "    rgb = mpl.colors.colorConverter.to_rgb(darken_color(color, 0.8))\n",
    "    mpl.colors.colorConverter.colors[code] = rgb\n",
    "    mpl.colors.colorConverter.cache[code] = rgb\n",
    "\n",
    "blue = (114 / 256, 147 / 256, 203 / 256)\n",
    "orange = (225 / 256, 151 / 256, 76 / 256)\n",
    "green = (132 / 256, 186 / 256, 91 / 256)\n",
    "red = (211 / 256, 94 / 256, 96 / 256)\n",
    "grey = (128 / 256, 133 / 256, 133 / 256)\n",
    "violet = (144 / 256, 103 / 256, 167 / 256)\n",
    "brown = (171 / 256, 104 / 256, 87 / 256)\n",
    "yellow = (204 / 256, 194 / 256, 16 / 256)\n",
    "\n",
    "SMALL_SIZE = 14\n",
    "MEDIUM_SIZE = 16\n",
    "BIGGER_SIZE = 18\n",
    "\n",
    "plt.rc(\"font\", size=SMALL_SIZE)  # controls default text sizes\n",
    "plt.rc(\"axes\", titlesize=SMALL_SIZE)  # fontsize of the axes title\n",
    "plt.rc(\"axes\", labelsize=MEDIUM_SIZE)  # fontsize of the x and y labels\n",
    "plt.rc(\"xtick\", labelsize=SMALL_SIZE)  # fontsize of the tick labels\n",
    "plt.rc(\"ytick\", labelsize=SMALL_SIZE)  # fontsize of the tick labels\n",
    "plt.rc(\"legend\", fontsize=SMALL_SIZE)  # legend fontsize\n",
    "plt.rc(\"figure\", titlesize=BIGGER_SIZE)  # fontsize of the figure title"
   ]
  },
  {
   "cell_type": "code",
   "execution_count": null,
   "metadata": {
    "ExecuteTime": {
     "end_time": "2020-08-11T18:31:08.420904Z",
     "start_time": "2020-08-11T18:31:08.414672Z"
    }
   },
   "outputs": [],
   "source": [
    "def apply_cuts(df):\n",
    "    \"\"\"Apply common cuts to a dataset and return the result.\"\"\"\n",
    "    return df[\n",
    "        (df.vrusable == 1)\n",
    "        & (df.vtusable == 1)\n",
    "        & (((df.vrchi2 / df.vrndf) < 50) | (df.vrntrk == 1))\n",
    "        & (((df.vtchi2 / df.vtndf) < 50) | (df.vtntrk == 1))\n",
    "        & (\n",
    "            ((np.sqrt(df.vrerr6) < 0.02) & (df.vrntrk > 1))\n",
    "            | ((np.sqrt(df.vrerr6) < 0.05) & (df.vrntrk == 1))\n",
    "        )\n",
    "        & (\n",
    "            ((np.sqrt(df.vterr6) < 0.02) & (df.vtntrk > 1))\n",
    "            | ((np.sqrt(df.vterr6) < 0.05) & (df.vtntrk == 1))\n",
    "        )\n",
    "        & (df.csbdtg > -0.6)\n",
    "        & ((df.de > -0.14) & (df.de < 0.068))\n",
    "        & ((df.dt > -10) & (df.dt < 10))\n",
    "        & (df.thetab > 0.65)\n",
    "        & (df.thetab < 2.95)\n",
    "        & (df.nocand <= 3)\n",
    "    ]\n",
    "\n",
    "\n",
    "def get_dataframe(paths, branches=None):\n",
    "    \"\"\"Read ROOT files, apply common cuts, and return as dataframe.\"\"\"\n",
    "    assert paths, \"No paths supplied\"\n",
    "    df = pd.DataFrame()\n",
    "    for path in paths:\n",
    "        temp_df = uproot.open(path)[\"h2000\"].pandas.df()\n",
    "        temp_df = apply_cuts(temp_df)\n",
    "        if branches:\n",
    "            if isinstance(branches, str):\n",
    "                branches = [branches]\n",
    "            df = df.append(temp_df[branches])\n",
    "        else:\n",
    "            df = df.append(temp_df)\n",
    "    return df"
   ]
  },
  {
   "cell_type": "markdown",
   "metadata": {},
   "source": [
    "## Data vs MC"
   ]
  },
  {
   "cell_type": "code",
   "execution_count": null,
   "metadata": {
    "ExecuteTime": {
     "end_time": "2020-08-11T18:31:08.441803Z",
     "start_time": "2020-08-11T18:31:08.422657Z"
    }
   },
   "outputs": [],
   "source": [
    "df_mc = get_dataframe(glob.glob(\"../data/Kpi/realistic_mc/stream0/*.root\"))\n",
    "df_data = get_dataframe(glob.glob(\"../data/Kpi/*.root\"))"
   ]
  },
  {
   "cell_type": "code",
   "execution_count": null,
   "metadata": {},
   "outputs": [],
   "source": [
    "df_data = df_data.head(df_mc.shape[0])\n",
    "print(df_mc.shape)\n",
    "print(df_data.shape)"
   ]
  },
  {
   "cell_type": "code",
   "execution_count": null,
   "metadata": {},
   "outputs": [],
   "source": [
    "fig, ax = plt.subplots()\n",
    "df_mc.plot.scatter(\n",
    "    x=\"rhomass\", y=\"mdspi\", c=\"evmcflag\", s=1, figsize=(6, 5), ax=ax, cmap=\"viridis\"\n",
    ")\n",
    "plt.xlabel(\"M($\\pi\\pi^0$)\")\n",
    "plt.ylabel(\"M($D^{*}\\pi$)\")\n",
    "fig.get_axes()[1].set_ylabel(\"MC Flag\")\n",
    "\n",
    "plt.tight_layout()\n",
    "# plt.savefig(\"rhomass_vs_mdstpi.png\")\n",
    "# plt.savefig(\"rhomass_vs_mdstpi.pdf\")"
   ]
  },
  {
   "cell_type": "code",
   "execution_count": null,
   "metadata": {},
   "outputs": [],
   "source": [
    "vals, bins, patches = plt.hist(\n",
    "    [df_mc.mdspi, df_data.mdspi], histtype=\"step\", bins=30, linewidth=1.5\n",
    ")\n",
    "\n",
    "# Add error bars\n",
    "centers = (bins[:-1] + bins[1:]) / 2\n",
    "width = bins[1] - bins[0]\n",
    "plt.gca().set_prop_cycle(None)\n",
    "for val in vals:\n",
    "    plt.errorbar(centers, val, yerr=np.sqrt(val), drawstyle=\"steps-mid\", ls=\"none\")\n",
    "\n",
    "plt.legend([\"MC\", \"data\"], loc=\"upper left\")\n",
    "plt.xlabel(\"M($D^{*}\\pi$) [GeV]\")\n",
    "plt.tight_layout()\n",
    "plt.savefig(\"dspimass.pdf\")\n",
    "plt.savefig(\"dspimass.png\")"
   ]
  },
  {
   "cell_type": "code",
   "execution_count": null,
   "metadata": {},
   "outputs": [],
   "source": [
    "vals, bins, patches = plt.hist(\n",
    "    [df_mc.mdspi0, df_data.mdspi0], histtype=\"step\", bins=30, linewidth=1.5\n",
    ")\n",
    "\n",
    "# Add error bars\n",
    "centers = (bins[:-1] + bins[1:]) / 2\n",
    "width = bins[1] - bins[0]\n",
    "plt.gca().set_prop_cycle(None)\n",
    "for val in vals:\n",
    "    plt.errorbar(centers, val, yerr=np.sqrt(val), drawstyle=\"steps-mid\", ls=\"none\")\n",
    "\n",
    "plt.legend([\"MC\", \"data\"], loc=\"upper left\")\n",
    "plt.xlabel(\"M($D^{*}\\pi^0$) [GeV]\")\n",
    "plt.tight_layout()\n",
    "plt.savefig(\"dspi0mass.pdf\")\n",
    "plt.savefig(\"dspi0mass.png\")"
   ]
  },
  {
   "cell_type": "code",
   "execution_count": null,
   "metadata": {},
   "outputs": [],
   "source": [
    "plt.hist(\n",
    "    [df_mc.mdspi0, df_data.mdspi0],\n",
    "    histtype=\"step\",\n",
    "    bins=30,\n",
    "    density=True,\n",
    "    linewidth=1.5,\n",
    ")\n",
    "plt.tight_layout()\n",
    "plt.legend([\"MC\", \"data\"], loc=\"upper left\")"
   ]
  },
  {
   "cell_type": "code",
   "execution_count": null,
   "metadata": {},
   "outputs": [],
   "source": [
    "vals, bins, patches = plt.hist(\n",
    "    [df_mc.rhomass, df_data.rhomass], histtype=\"step\", bins=30, linewidth=1.5\n",
    ")\n",
    "\n",
    "# Add error bars\n",
    "centers = (bins[:-1] + bins[1:]) / 2\n",
    "width = bins[1] - bins[0]\n",
    "plt.gca().set_prop_cycle(None)\n",
    "for val in vals:\n",
    "    plt.errorbar(centers, val, yerr=np.sqrt(val), drawstyle=\"steps-mid\", ls=\"none\")\n",
    "\n",
    "plt.legend([\"MC\", \"data\"], loc=\"upper left\")\n",
    "plt.xlabel(\"M($\\pi\\pi^0$) [GeV]\")\n",
    "plt.tight_layout()\n",
    "plt.savefig(\"rhomass.pdf\")\n",
    "plt.savefig(\"rhomass.png\")"
   ]
  },
  {
   "cell_type": "markdown",
   "metadata": {},
   "source": [
    "## MC"
   ]
  },
  {
   "cell_type": "code",
   "execution_count": null,
   "metadata": {},
   "outputs": [],
   "source": [
    "df_mc_all = get_dataframe(glob.glob(\"../data/Kpi/mc_wo_signal/*.root\"))"
   ]
  },
  {
   "cell_type": "code",
   "execution_count": null,
   "metadata": {},
   "outputs": [],
   "source": [
    "list(filter(lambda col: \"mcf\" in col, list(df_mc_all.columns)))"
   ]
  },
  {
   "cell_type": "code",
   "execution_count": null,
   "metadata": {},
   "outputs": [],
   "source": [
    "df_mc_all.groupby(\"evmcflag\").rhomass.count()"
   ]
  },
  {
   "cell_type": "code",
   "execution_count": null,
   "metadata": {},
   "outputs": [],
   "source": [
    "df_mc_all.groupby(\"rhomcfla\").rhomass.count()"
   ]
  },
  {
   "cell_type": "code",
   "execution_count": null,
   "metadata": {},
   "outputs": [],
   "source": [
    "def create_queried_histos(df, var, queries, density=False, xlabel=None, path=None):\n",
    "    if density:\n",
    "        fig, ax = plt.subplots(1, 2, figsize=(10, 5))\n",
    "    else:\n",
    "        fig, ax = plt.subplots()\n",
    "        ax = [ax]\n",
    "            \n",
    "    for query in queries:\n",
    "        df.query(query).hist(\n",
    "            var, ax=ax[0], bins=30, histtype=\"step\", linewidth=1.5\n",
    "        )\n",
    "        if density:\n",
    "            df.query(query).hist(\n",
    "                var, ax=ax[1], bins=30, histtype=\"step\", linewidth=1.5, density=True\n",
    "            )\n",
    "\n",
    "    if xlabel:\n",
    "        ax[0].set_xlabel(xlabel)\n",
    "        ax[0].set_title(\"\")\n",
    "        if density:\n",
    "            ax[1].set_xlabel(xlabel)\n",
    "            ax[1].set_title(\"\")\n",
    "\n",
    "    plt.legend(queries, loc=\"upper left\", prop={'size': 10})\n",
    "    plt.tight_layout()\n",
    "\n",
    "    if path:\n",
    "        plt.savefig(path + \".png\")\n",
    "        plt.savefig(path + \".pdf\")"
   ]
  },
  {
   "cell_type": "code",
   "execution_count": null,
   "metadata": {},
   "outputs": [],
   "source": [
    "def create_overlayed_histos(dfs, legend, var, density=False, xlabel=None, path=None):\n",
    "    if density:\n",
    "        fig, ax = plt.subplots(1, 2, figsize=(10, 5))\n",
    "    else:\n",
    "        fig, ax = plt.subplots()\n",
    "        ax = [ax]\n",
    "            \n",
    "    for df in dfs:\n",
    "        df.hist(\n",
    "            var, ax=ax[0], bins=30, histtype=\"step\", linewidth=1.5\n",
    "        )\n",
    "        if density:\n",
    "            df.hist(\n",
    "                var, ax=ax[1], bins=30, histtype=\"step\", linewidth=1.5, density=True\n",
    "            )\n",
    "\n",
    "    if xlabel:\n",
    "        ax[0].set_xlabel(xlabel)\n",
    "        ax[0].set_title(\"\")\n",
    "        if density:\n",
    "            ax[1].set_xlabel(xlabel)\n",
    "            ax[1].set_title(\"\")\n",
    "\n",
    "    plt.legend(legend, loc=\"upper left\", prop={'size': 10})\n",
    "    plt.tight_layout()\n",
    "\n",
    "    if path:\n",
    "        plt.savefig(path + \".png\")\n",
    "        plt.savefig(path + \".pdf\")"
   ]
  },
  {
   "cell_type": "code",
   "execution_count": null,
   "metadata": {},
   "outputs": [],
   "source": [
    "rho_queries = [\n",
    "    \"rhomcfla==1 | rhomcfla==10\",\n",
    "    \"rhomcfla==-1 | rhomcfla==0\",\n",
    "    \"rhomcfla==3\",\n",
    "    \"rhomcfla==5\",\n",
    "]\n",
    "\n",
    "# evmcflag_queries = [\n",
    "#     f\"evmcflag=={flag}\"\n",
    "#     for flag in sorted(df_mc_all.evmcflag.unique())\n",
    "#     if df_mc_all.query(\"evmcflag==\" + str(flag)).shape[0] > 1000\n",
    "# ]\n",
    "\n",
    "evmcflag_queries = [\n",
    "    \"evmcflag==2\",\n",
    "    \"evmcflag==6\",\n",
    "    \"evmcflag==7\",\n",
    "]"
   ]
  },
  {
   "cell_type": "code",
   "execution_count": null,
   "metadata": {},
   "outputs": [],
   "source": [
    "create_queried_histos(df_mc_all, \"rhomass\", rho_queries, True, \"M($\\pi\\pi^0$) [GeV]\", \"rhomass_rhomcflag\")"
   ]
  },
  {
   "cell_type": "code",
   "execution_count": null,
   "metadata": {},
   "outputs": [],
   "source": [
    "create_queried_histos(df_mc_all, \"rhomass\", evmcflag_queries, False, \"M($\\pi\\pi^0$) [GeV]\", \"rhomass_evmcflag\")"
   ]
  },
  {
   "cell_type": "code",
   "execution_count": null,
   "metadata": {},
   "outputs": [],
   "source": [
    "create_queried_histos(df_mc_all, \"mdspi\", rho_queries, True, \"M($D^{*}\\pi$) [GeV]\", \"mdspi_rhomcflag\")"
   ]
  },
  {
   "cell_type": "code",
   "execution_count": null,
   "metadata": {},
   "outputs": [],
   "source": [
    "create_queried_histos(df_mc_all, \"mdspi\", evmcflag_queries, False, \"M($D^{*}\\pi$) [GeV]\", \"mdspi_evmcflag\")"
   ]
  },
  {
   "cell_type": "code",
   "execution_count": null,
   "metadata": {},
   "outputs": [],
   "source": [
    "create_queried_histos(df_mc_all, \"mdspi0\", evmcflag_queries, False, \"M($D^{*}\\pi^0$) [GeV]\", \"mdspi0_evmcflag\")"
   ]
  },
  {
   "cell_type": "markdown",
   "metadata": {},
   "source": [
    "### 2D Plots"
   ]
  },
  {
   "cell_type": "code",
   "execution_count": null,
   "metadata": {},
   "outputs": [],
   "source": [
    "fig, ax = plt.subplots()\n",
    "df_mc_all.plot.scatter(\n",
    "    x=\"rhomass\", y=\"mdspi\", c=\"evmcflag\", s=1, figsize=(6, 5), ax=ax, cmap=\"Set2\"\n",
    ")\n",
    "plt.xlabel(\"M($\\pi\\pi^0$)\")\n",
    "plt.ylabel(\"M($D^{*}\\pi$)\")\n",
    "fig.get_axes()[1].set_ylabel(\"MC Flag\")\n",
    "\n",
    "plt.tight_layout()"
   ]
  },
  {
   "cell_type": "code",
   "execution_count": null,
   "metadata": {},
   "outputs": [],
   "source": [
    "fig, ax = plt.subplots()\n",
    "df_mc_all.plot.scatter(\n",
    "    x=\"rhomass\", y=\"mdspi0\", c=\"evmcflag\", s=1, figsize=(6, 5), ax=ax, cmap=\"Set2\"\n",
    ")\n",
    "plt.xlabel(\"M($\\pi\\pi^0$)\")\n",
    "plt.ylabel(\"M($D^{*}\\pi^0$)\")\n",
    "fig.get_axes()[1].set_ylabel(\"MC Flag\")\n",
    "\n",
    "plt.tight_layout()"
   ]
  },
  {
   "cell_type": "markdown",
   "metadata": {},
   "source": [
    "### Sidebands vs MC BKG"
   ]
  },
  {
   "cell_type": "code",
   "execution_count": null,
   "metadata": {},
   "outputs": [],
   "source": [
    "df_side = get_dataframe(glob.glob(\"../data/Kpi/sidebands/*.root\"))"
   ]
  },
  {
   "cell_type": "code",
   "execution_count": null,
   "metadata": {},
   "outputs": [],
   "source": [
    "create_queried_histos(df_side, \"rhomass\", [\"thetab>0\"], True, \"M($\\pi\\pi^0$) [GeV]\")"
   ]
  },
  {
   "cell_type": "code",
   "execution_count": null,
   "metadata": {},
   "outputs": [],
   "source": [
    "create_queried_histos(df_mc_all, \"rhomass\", [\"thetab>0\"], True, \"M($\\pi\\pi^0$) [GeV]\")"
   ]
  },
  {
   "cell_type": "markdown",
   "metadata": {},
   "source": [
    "### Inv. Mass MC Components"
   ]
  },
  {
   "cell_type": "code",
   "execution_count": null,
   "metadata": {},
   "outputs": [],
   "source": [
    "df_cr  = df_mc.query('candsel>1 & evmcflag==1')\n",
    "df_scf = df_mc.query('candsel>1 & evmcflag!=1')\n",
    "df_bkg = df_mc.query('candsel<2 & evmcflag!=1')"
   ]
  },
  {
   "cell_type": "code",
   "execution_count": null,
   "metadata": {},
   "outputs": [],
   "source": [
    "create_overlayed_histos([df_cr, df_scf, df_bkg], ['CR', 'SCF', 'BKG'], \"rhomass\", False, \"M($\\pi\\pi^0$) [GeV]\", \"rhomass_mc\")"
   ]
  },
  {
   "cell_type": "code",
   "execution_count": null,
   "metadata": {},
   "outputs": [],
   "source": [
    "create_overlayed_histos([df_cr, df_scf, df_bkg], ['CR', 'SCF', 'BKG'], \"mdspi\", False, \"M($D^{*}\\pi$) [GeV]\", \"mdspi_mc\")"
   ]
  },
  {
   "cell_type": "code",
   "execution_count": null,
   "metadata": {},
   "outputs": [],
   "source": [
    "create_overlayed_histos([df_cr, df_scf, df_bkg], ['CR', 'SCF', 'BKG'], \"mdspi0\", False, \"M($D^{*}\\pi^0$) [GeV]\", \"mdspi0_mc\")"
   ]
  },
  {
   "cell_type": "markdown",
   "metadata": {},
   "source": [
    "### Angular BKG Distributions"
   ]
  },
  {
   "cell_type": "code",
   "execution_count": null,
   "metadata": {},
   "outputs": [],
   "source": [
    "create_queried_histos(df_mc_all, \"thetab\", evmcflag_queries, False, \"$θ_b$ [rad]\", \"thetab_mc\")"
   ]
  },
  {
   "cell_type": "code",
   "execution_count": null,
   "metadata": {},
   "outputs": [],
   "source": [
    "create_queried_histos(df_mc_all, \"thetat\", evmcflag_queries, False, \"$θ_t$ [rad]\", \"thetat_mc\")"
   ]
  },
  {
   "cell_type": "code",
   "execution_count": null,
   "metadata": {},
   "outputs": [],
   "source": [
    "create_queried_histos(df_mc_all, \"phit\", evmcflag_queries, False, \"$φ_t$ [rad]\", \"phit_mc\")"
   ]
  },
  {
   "cell_type": "code",
   "execution_count": null,
   "metadata": {},
   "outputs": [],
   "source": []
  }
 ],
 "metadata": {
  "kernelspec": {
   "display_name": "Python 3",
   "language": "python",
   "name": "python3"
  },
  "language_info": {
   "codemirror_mode": {
    "name": "ipython",
    "version": 3
   },
   "file_extension": ".py",
   "mimetype": "text/x-python",
   "name": "python",
   "nbconvert_exporter": "python",
   "pygments_lexer": "ipython3",
   "version": "3.7.3"
  },
  "toc-autonumbering": false,
  "toc-showcode": false,
  "toc-showmarkdowntxt": false
 },
 "nbformat": 4,
 "nbformat_minor": 4
}
