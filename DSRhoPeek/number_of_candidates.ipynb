{
 "cells": [
  {
   "cell_type": "code",
   "execution_count": null,
   "metadata": {},
   "outputs": [],
   "source": [
    "%matplotlib inline\n",
    "import matplotlib.pyplot as plt\n",
    "import numpy as np\n",
    "import pandas as pd\n",
    "from scipy.optimize import curve_fit\n",
    "from scipy.stats import norm\n",
    "from statsmodels.base.model import GenericLikelihoodModel\n",
    "import seaborn as sns\n",
    "sns.set_palette(\"muted\")\n",
    "sns.set_color_codes()\n",
    "sns.set_style(\"ticks\")\n",
    "sns.set_style({\"xtick.direction\": \"in\",\"ytick.direction\": \"in\"})\n",
    "sns.set_style({\"axes.grid\": \"True\", \"grid.color\": \"0.95\"})\n",
    "\n",
    "plt.rcParams[\"figure.figsize\"] = [6,4]\n",
    "plt.rcParams[\"figure.dpi\"] = 100"
   ]
  },
  {
   "cell_type": "code",
   "execution_count": null,
   "metadata": {},
   "outputs": [],
   "source": [
    "SMALL_SIZE = 14\n",
    "MEDIUM_SIZE = 16\n",
    "BIGGER_SIZE = 18\n",
    "\n",
    "plt.rc('font', size=SMALL_SIZE)          # controls default text sizes\n",
    "plt.rc('axes', titlesize=SMALL_SIZE)     # fontsize of the axes title\n",
    "plt.rc('axes', labelsize=MEDIUM_SIZE)    # fontsize of the x and y labels\n",
    "plt.rc('xtick', labelsize=SMALL_SIZE)    # fontsize of the tick labels\n",
    "plt.rc('ytick', labelsize=SMALL_SIZE)    # fontsize of the tick labels\n",
    "plt.rc('legend', fontsize=SMALL_SIZE)    # legend fontsize\n",
    "plt.rc('figure', titlesize=BIGGER_SIZE)  # fontsize of the figure title"
   ]
  },
  {
   "cell_type": "code",
   "execution_count": null,
   "metadata": {},
   "outputs": [],
   "source": [
    "import uproot\n",
    "import glob"
   ]
  },
  {
   "cell_type": "code",
   "execution_count": null,
   "metadata": {},
   "outputs": [],
   "source": [
    "def get_dataframe(paths, branches=None):\n",
    "    assert paths, \"No paths supplied\"\n",
    "    df = pd.DataFrame()\n",
    "    for path in paths:\n",
    "        temp_df = uproot.open(path)['h2000'].pandas.df()\n",
    "        temp_df = apply_cuts(temp_df)\n",
    "        if branches:\n",
    "            if isinstance(branches, str):\n",
    "                branches = [branches]\n",
    "            df = df.append(temp_df[branches])\n",
    "        else:\n",
    "            df = df.append(temp_df)\n",
    "    return df"
   ]
  },
  {
   "cell_type": "code",
   "execution_count": null,
   "metadata": {},
   "outputs": [],
   "source": [
    "def apply_cuts(df):\n",
    "    return df[ \n",
    "        (df.vrusable == 1) &\n",
    "        (df.vtusable == 1) &\n",
    "        (((df.vrchi2/df.vrndf) < 50) | (df.vrntrk == 1)) &\n",
    "        (((df.vtchi2/df.vtndf) < 50) | (df.vtntrk == 1)) &\n",
    "        (((np.sqrt(df.vrerr6) < 0.02) & (df.vrntrk > 1)) | ((np.sqrt(df.vrerr6) < 0.05) & (df.vrntrk == 1))) &\n",
    "        (((np.sqrt(df.vterr6) < 0.02) & (df.vtntrk > 1)) | ((np.sqrt(df.vterr6) < 0.05) & (df.vtntrk == 1))) &\n",
    "        (df.csbdtg > -0.6) &\n",
    "        ((df.de > -0.14) & (df.de < 0.068)) &\n",
    "        ((df.dt > -10) & (df.dt < 10)) &\n",
    "        (df.thetab > 0.5)\n",
    "    ]"
   ]
  },
  {
   "cell_type": "code",
   "execution_count": null,
   "metadata": {},
   "outputs": [],
   "source": [
    "df_signal = {}\n",
    "df_generic = {}\n",
    "df_mc = {}\n",
    "df_data = {}\n",
    "\n",
    "df_signal[\"Kpi\"] = get_dataframe(glob.glob('../data/Kpi/realistic_mc/DSRho-mdst_Kpi_basf2_00_svd*.root'), [\"nocand\"])\n",
    "df_generic[\"Kpi\"] = get_dataframe(glob.glob('../data/Kpi/mc_wo_signal/*0.root'), [\"nocand\"])\n",
    "df_mc[\"Kpi\"] = get_dataframe(glob.glob('../data/Kpi/realistic_mc/stream0/*.root'), [\"nocand\"])\n",
    "df_data[\"Kpi\"] = get_dataframe(glob.glob('../data/Kpi/*.root'), \"nocand\")\n",
    "\n",
    "df_signal[\"Kpipi0\"] = get_dataframe(glob.glob('../data/Kpipi0/realistic_mc/DSRho-mdst_Kpipi0_basf2_00_svd*.root'), [\"nocand\"])\n",
    "df_generic[\"Kpipi0\"] = get_dataframe(glob.glob('../data/Kpipi0/mc_wo_signal/*0.root'), [\"nocand\"])\n",
    "df_mc[\"Kpipi0\"] = get_dataframe(glob.glob('../data/Kpipi0/realistic_mc/stream0/*.root'), [\"nocand\"])\n",
    "df_data[\"Kpipi0\"] = get_dataframe(glob.glob('../data/Kpipi0/*.root'), \"nocand\")\n",
    "\n",
    "df_signal[\"K3pi\"] = get_dataframe(glob.glob('../data/K3pi/realistic_mc/DSRho-mdst_K3pi_basf2_00_svd*.root'), [\"nocand\"])\n",
    "df_generic[\"K3pi\"] = get_dataframe(glob.glob('../data/K3pi/mc_wo_signal/*0.root'), [\"nocand\"])\n",
    "df_mc[\"K3pi\"] = get_dataframe(glob.glob('../data/K3pi/realistic_mc/stream0/*.root'), [\"nocand\"])\n",
    "df_data[\"K3pi\"] = get_dataframe(glob.glob('../data/K3pi/*.root'), \"nocand\")"
   ]
  },
  {
   "cell_type": "code",
   "execution_count": null,
   "metadata": {},
   "outputs": [],
   "source": [
    "for channel in ['Kpi', 'Kpipi0', 'K3pi']:\n",
    "    plt.hist(df_generic[channel]['nocand'], log=True, bins=5, align='left', range=(1,6), label='generic MC', hatch='//', edgecolor='b', fill=False, histtype='step', linewidth=2)\n",
    "    plt.hist(df_signal[channel]['nocand'], log=True, bins=5, align='left', range=(1,6), label='signal MC', hatch='\\\\\\\\', edgecolor='g', fill=False, histtype='step', linewidth=2)\n",
    "    plt.locator_params(axis='x', nbins=6)\n",
    "    plt.ylim(bottom=1)\n",
    "    plt.legend()\n",
    "    plt.xlabel(\"Number of candidates\")\n",
    "    # plt.savefig(channel + \"_nocand_genvssig.pdf\")\n",
    "    plt.show()"
   ]
  },
  {
   "cell_type": "code",
   "execution_count": null,
   "metadata": {},
   "outputs": [],
   "source": [
    "for channel in ['Kpi', 'Kpipi0', 'K3pi']:\n",
    "    plt.hist(df_mc[channel]['nocand'], log=True, bins=5, align='left', range=(1,6), label='MC', hatch='//', edgecolor='b', fill=False, histtype='step', linewidth=2)\n",
    "    plt.hist(df_data[channel]['nocand'], log=True, bins=5, align='left', range=(1,6), label='data', hatch='\\\\\\\\', edgecolor='g', fill=False, histtype='step', linewidth=2)\n",
    "    plt.xlabel(\"Number of candidates\")\n",
    "    plt.legend()\n",
    "    plt.locator_params(axis='x', nbins=6)\n",
    "    plt.savefig(channel + \"_nocand_datavsmc.pdf\")\n",
    "    plt.show()"
   ]
  },
  {
   "cell_type": "code",
   "execution_count": null,
   "metadata": {},
   "outputs": [],
   "source": [
    "ratios = {}\n",
    "for channel in ['Kpi', 'Kpipi0', 'K3pi']:\n",
    "    channel_ratios = []\n",
    "    for i in range(1, 6):\n",
    "        num_tot_data = df_data[channel].count()\n",
    "        num_one_data = df_data[channel][df_data[channel].nocand == i].count()\n",
    "        num_tot_mc = df_mc[channel].count()\n",
    "        num_one_mc = df_mc[channel][df_mc[channel].nocand == i].count()\n",
    "        channel_ratios.append(float((num_one_data/num_tot_data) / (num_one_mc/num_tot_mc)))\n",
    "    ratios[channel] = channel_ratios"
   ]
  },
  {
   "cell_type": "code",
   "execution_count": null,
   "metadata": {},
   "outputs": [],
   "source": [
    "x = np.arange(1, 6)  # the label locations\n",
    "width = 0.25  # the width of the bars\n",
    "\n",
    "fig, ax = plt.subplots()\n",
    "rects1 = ax.bar(x - width, ratios[\"Kpi\"], width, label='Kpi')\n",
    "rects2 = ax.bar(x, ratios[\"Kpipi0\"], width, label='Kpipi0')\n",
    "rects3 = ax.bar(x + width, ratios[\"K3pi\"], width, label='K3pi')\n",
    "\n",
    "ax.set_ylabel('Data/MC Ratio')\n",
    "ax.set_xlabel('Number of Candidates')\n",
    "ax.legend()\n",
    "\n",
    "fig.tight_layout()\n",
    "\n",
    "plt.savefig(\"nocand_ratios.pdf\")\n",
    "plt.show()"
   ]
  },
  {
   "cell_type": "code",
   "execution_count": null,
   "metadata": {},
   "outputs": [],
   "source": []
  }
 ],
 "metadata": {
  "kernelspec": {
   "display_name": "Python 3",
   "language": "python",
   "name": "python3"
  },
  "language_info": {
   "codemirror_mode": {
    "name": "ipython",
    "version": 3
   },
   "file_extension": ".py",
   "mimetype": "text/x-python",
   "name": "python",
   "nbconvert_exporter": "python",
   "pygments_lexer": "ipython3",
   "version": "3.6.9"
  }
 },
 "nbformat": 4,
 "nbformat_minor": 2
}
