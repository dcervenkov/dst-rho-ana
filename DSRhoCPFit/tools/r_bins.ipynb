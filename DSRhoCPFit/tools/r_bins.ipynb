{
 "cells": [
  {
   "cell_type": "code",
   "execution_count": null,
   "metadata": {
    "ExecuteTime": {
     "end_time": "2020-08-12T12:35:36.579289Z",
     "start_time": "2020-08-12T12:35:35.963557Z"
    }
   },
   "outputs": [],
   "source": [
    "# Standard includes\n",
    "%matplotlib inline\n",
    "import glob\n",
    "import matplotlib.pyplot as plt\n",
    "import numpy as np\n",
    "import pandas as pd\n",
    "import uproot\n",
    "# from scipy.optimize import curve_fit\n",
    "# from scipy.stats import norm\n",
    "# from statsmodels.base.model import GenericLikelihoodModel"
   ]
  },
  {
   "cell_type": "code",
   "execution_count": null,
   "metadata": {
    "ExecuteTime": {
     "end_time": "2020-08-12T12:35:36.967628Z",
     "start_time": "2020-08-12T12:35:36.642746Z"
    }
   },
   "outputs": [],
   "source": [
    "# Style setup\n",
    "import seaborn as sns\n",
    "sns.set_palette('muted')\n",
    "sns.set_color_codes()\n",
    "sns.set_style('ticks')\n",
    "sns.set_style({'xtick.direction': 'in','ytick.direction': 'in'})\n",
    "sns.set_style({'axes.grid': 'True', 'grid.color': '0.95'})\n",
    "\n",
    "plt.rcParams['figure.figsize'] = [6,6]\n",
    "plt.rcParams['figure.dpi'] = 100\n",
    "def darken_color(color, p):\n",
    "    return (color[0]*p,color[1]*p,color[2]*p)\n",
    "\n",
    "import matplotlib as mpl\n",
    "colors = sns.color_palette('muted') + [(.1, .1, .1)]\n",
    "for code, color in zip(['bd','gd','rd','md','yd','cd','kd'], colors):\n",
    "    rgb = mpl.colors.colorConverter.to_rgb(darken_color(color,0.8))\n",
    "    mpl.colors.colorConverter.colors[code] = rgb\n",
    "    mpl.colors.colorConverter.cache[code] = rgb\n",
    "\n",
    "blue = (114/256, 147/256, 203/256)\n",
    "orange = (225/256, 151/256,  76/256)\n",
    "green = (132/256, 186/256,  91/256)\n",
    "red = (211/256,  94/256,  96/256)\n",
    "grey = (128/256, 133/256, 133/256)\n",
    "violet = (144/256, 103/256, 167/256)\n",
    "brown = (171/256, 104/256,  87/256)\n",
    "yellow = (204/256, 194/256,  16/256)\n",
    "\n",
    "SMALL_SIZE = 14\n",
    "MEDIUM_SIZE = 16\n",
    "BIGGER_SIZE = 18\n",
    "\n",
    "plt.rc('font', size=SMALL_SIZE)          # controls default text sizes\n",
    "plt.rc('axes', titlesize=SMALL_SIZE)     # fontsize of the axes title\n",
    "plt.rc('axes', labelsize=MEDIUM_SIZE)    # fontsize of the x and y labels\n",
    "plt.rc('xtick', labelsize=SMALL_SIZE)    # fontsize of the tick labels\n",
    "plt.rc('ytick', labelsize=SMALL_SIZE)    # fontsize of the tick labels\n",
    "plt.rc('legend', fontsize=SMALL_SIZE)    # legend fontsize\n",
    "plt.rc('figure', titlesize=BIGGER_SIZE)  # fontsize of the figure title"
   ]
  },
  {
   "cell_type": "code",
   "execution_count": null,
   "metadata": {
    "ExecuteTime": {
     "end_time": "2020-08-12T12:35:38.710933Z",
     "start_time": "2020-08-12T12:35:38.695301Z"
    }
   },
   "outputs": [],
   "source": [
    "def apply_cuts(df):\n",
    "    \"\"\"Apply common cuts to a dataset and return the result.\"\"\"\n",
    "    return df[ \n",
    "        (df.vrusable == 1) &\n",
    "        (df.vtusable == 1) &\n",
    "        (((df.vrchi2/df.vrndf) < 50) | (df.vrntrk == 1)) &\n",
    "        (((df.vtchi2/df.vtndf) < 50) | (df.vtntrk == 1)) &\n",
    "        (((np.sqrt(df.vrerr6) < 0.02) & (df.vrntrk > 1)) | ((np.sqrt(df.vrerr6) < 0.05) & (df.vrntrk == 1))) &\n",
    "        (((np.sqrt(df.vterr6) < 0.02) & (df.vtntrk > 1)) | ((np.sqrt(df.vterr6) < 0.05) & (df.vtntrk == 1))) &\n",
    "        (df.csbdtg > -0.6) &\n",
    "        ((df.de > -0.14) & (df.de < 0.068)) &\n",
    "        ((df.dt > -10) & (df.dt < 10)) &\n",
    "        (df.thetab > 0.65) & (df.thetab < 2.95) &\n",
    "        (df.nocand <= 3)\n",
    "    ]\n",
    "\n",
    "def get_dataframe(paths, branches=None):\n",
    "    \"\"\"Read ROOT files, apply common cuts, and return as dataframe.\"\"\"\n",
    "    assert paths, \"No paths supplied\"\n",
    "    df = pd.DataFrame()\n",
    "    for path in paths:\n",
    "        temp_df = uproot.open(path)[\"h2000\"].pandas.df()\n",
    "        temp_df = apply_cuts(temp_df)\n",
    "        if branches:\n",
    "            if isinstance(branches, str):\n",
    "                branches = [branches]\n",
    "            df = df.append(temp_df[branches])\n",
    "        else:\n",
    "            df = df.append(temp_df)\n",
    "    return df"
   ]
  },
  {
   "cell_type": "code",
   "execution_count": null,
   "metadata": {
    "ExecuteTime": {
     "end_time": "2020-08-12T13:28:33.442587Z",
     "start_time": "2020-08-12T13:28:25.899705Z"
    }
   },
   "outputs": [],
   "source": [
    "df_sig = get_dataframe(glob.glob(\"../../data/Kpi/realistic_mc/*basf2*.root\"))\n",
    "df_bkg = get_dataframe(glob.glob(\"../../data/Kpi/realistic_mc/*evtgen*.root\"))"
   ]
  },
  {
   "cell_type": "code",
   "execution_count": null,
   "metadata": {
    "ExecuteTime": {
     "end_time": "2020-08-12T13:28:33.457371Z",
     "start_time": "2020-08-12T13:28:33.444182Z"
    }
   },
   "outputs": [],
   "source": [
    "df_sig[\"r\"] = 1 - 2 * df_sig[\"tagwtag\"]\n",
    "df_bkg[\"r\"] = 1 - 2 * df_bkg[\"tagwtag\"]"
   ]
  },
  {
   "cell_type": "code",
   "execution_count": null,
   "metadata": {
    "ExecuteTime": {
     "end_time": "2020-08-12T12:45:13.023354Z",
     "start_time": "2020-08-12T12:45:13.018435Z"
    }
   },
   "outputs": [],
   "source": [
    "def get_r_bin(row):\n",
    "    r = row['r']\n",
    "    if (0.000 <= r and r <= 0.100):\n",
    "        return 0\n",
    "    elif (0.100 < r and r <= 0.250):\n",
    "        return 1;\n",
    "    elif (0.250 < r and r <= 0.500):\n",
    "        return 2\n",
    "    elif (0.500 < r and r <= 0.625):\n",
    "        return 3\n",
    "    elif (0.625 < r and r <= 0.750):\n",
    "        return 4\n",
    "    elif (0.750 < r and r <= 0.875):\n",
    "        return 5\n",
    "    elif (0.875 < r and r <= 1.000):\n",
    "        return 6\n",
    "    else:\n",
    "        return 7"
   ]
  },
  {
   "cell_type": "code",
   "execution_count": null,
   "metadata": {
    "ExecuteTime": {
     "end_time": "2020-08-12T13:28:46.109780Z",
     "start_time": "2020-08-12T13:28:41.757907Z"
    }
   },
   "outputs": [],
   "source": [
    "df_sig['rbin'] = df_sig.apply(lambda row: get_r_bin(row), axis=1)\n",
    "df_bkg['rbin'] = df_bkg.apply(lambda row: get_r_bin(row), axis=1)"
   ]
  },
  {
   "cell_type": "code",
   "execution_count": null,
   "metadata": {
    "ExecuteTime": {
     "end_time": "2020-08-12T13:28:50.861813Z",
     "start_time": "2020-08-12T13:28:48.987747Z"
    }
   },
   "outputs": [],
   "source": [
    "df_sig.hist('thetab', by='rbin', density=True, sharey=True, sharex=True)"
   ]
  },
  {
   "cell_type": "code",
   "execution_count": null,
   "metadata": {
    "ExecuteTime": {
     "end_time": "2020-08-12T13:28:58.962022Z",
     "start_time": "2020-08-12T13:28:56.900117Z"
    }
   },
   "outputs": [],
   "source": [
    "g = sns.FacetGrid(df_sig, col_wrap=3, col=\"rbin\", margin_titles=True)\n",
    "bins = np.linspace(0.65, 2.95, 10)\n",
    "g.map(plt.hist, \"thetab\", bins=bins, density=True)"
   ]
  },
  {
   "cell_type": "code",
   "execution_count": null,
   "metadata": {
    "ExecuteTime": {
     "end_time": "2020-08-12T13:29:15.283608Z",
     "start_time": "2020-08-12T13:29:13.251880Z"
    }
   },
   "outputs": [],
   "source": [
    "g = sns.FacetGrid(df_bkg, col_wrap=3, col=\"rbin\", margin_titles=True)\n",
    "bins = np.linspace(0.65, 2.95, 10)\n",
    "g.map(plt.hist, \"thetab\", bins=bins, density=True)"
   ]
  },
  {
   "cell_type": "code",
   "execution_count": null,
   "metadata": {
    "ExecuteTime": {
     "end_time": "2020-08-12T13:47:39.842873Z",
     "start_time": "2020-08-12T13:47:38.782193Z"
    }
   },
   "outputs": [],
   "source": [
    "df_sig.hist(\"thetab\", by=\"rbin\")"
   ]
  },
  {
   "cell_type": "code",
   "execution_count": null,
   "metadata": {
    "ExecuteTime": {
     "end_time": "2020-08-12T13:53:46.391592Z",
     "start_time": "2020-08-12T13:53:42.541360Z"
    }
   },
   "outputs": [],
   "source": [
    "df_data = get_dataframe(glob.glob(\"../../data/Kpi/*.root\"))\n",
    "df_data[\"r\"] = 1 - 2 * df_data[\"tagwtag\"]\n",
    "df_data['rbin'] = df_data.apply(lambda row: get_r_bin(row), axis=1)"
   ]
  },
  {
   "cell_type": "code",
   "execution_count": null,
   "metadata": {
    "ExecuteTime": {
     "end_time": "2020-08-12T13:53:59.296486Z",
     "start_time": "2020-08-12T13:53:57.333297Z"
    }
   },
   "outputs": [],
   "source": [
    "g = sns.FacetGrid(df_data, col_wrap=3, col=\"rbin\", margin_titles=True)\n",
    "bins = np.linspace(0.65, 2.95, 10)\n",
    "g.map(plt.hist, \"thetab\", bins=bins, density=True)"
   ]
  },
  {
   "cell_type": "code",
   "execution_count": null,
   "metadata": {},
   "outputs": [],
   "source": [
    "df_cr = df_sig.query('evmcflag==1')\n",
    "df_scf = df_sig.query('evmcflag!=1')"
   ]
  },
  {
   "cell_type": "code",
   "execution_count": null,
   "metadata": {},
   "outputs": [],
   "source": [
    "cr_counts = [df_cr.query(f'rbin=={rbin}').shape[0] for rbin in range(7)]\n",
    "scf_counts = [df_scf.query(f'rbin=={rbin}').shape[0] for rbin in range(7)]\n",
    "bkg_counts = [df_bkg.query(f'rbin=={rbin}').shape[0] for rbin in range(7)]"
   ]
  },
  {
   "cell_type": "code",
   "execution_count": null,
   "metadata": {},
   "outputs": [],
   "source": [
    "print(\"rbin | SCF/CR | BKG/CR\")\n",
    "print(\"-----|--------|-------\")\n",
    "for rbin in range(7):\n",
    "    print(f\"{rbin:4} | {scf_counts[rbin] / cr_counts[rbin]:6.3f} | {bkg_counts[rbin] / cr_counts[rbin]:6.3f}\")"
   ]
  },
  {
   "cell_type": "code",
   "execution_count": null,
   "metadata": {},
   "outputs": [],
   "source": [
    "g = sns.FacetGrid(df_scf, col_wrap=3, col=\"rbin\", margin_titles=True)\n",
    "bins = np.linspace(-10, 10, 20)\n",
    "g.map(plt.hist, \"dt\", bins=bins, density=True)"
   ]
  },
  {
   "cell_type": "code",
   "execution_count": null,
   "metadata": {},
   "outputs": [],
   "source": [
    "g = sns.FacetGrid(df_bkg, col_wrap=3, col=\"rbin\", margin_titles=True)\n",
    "bins = np.linspace(-10, 10, 20)\n",
    "g.map(plt.hist, \"dt\", bins=bins, density=True)"
   ]
  },
  {
   "cell_type": "code",
   "execution_count": null,
   "metadata": {},
   "outputs": [],
   "source": [
    "def create_overlayed_histos(dfs, legend, var, density=False, xlabel=None, path=None):\n",
    "    fig, ax = plt.subplots()\n",
    "            \n",
    "    bins = None\n",
    "    for df in dfs:\n",
    "        if bins is None:\n",
    "            counts, bins = np.histogram(df[var], bins=5)\n",
    "        df.hist(\n",
    "            var, ax=ax, bins=bins, histtype=\"step\", linewidth=1.5, density=density\n",
    "        )\n",
    "\n",
    "    if xlabel:\n",
    "        ax.set_xlabel(xlabel)\n",
    "        ax.set_title(\"\")\n",
    "\n",
    "    plt.legend(legend, loc=\"upper left\", fontsize=10, title_fontsize=10, title=\"rbin\")\n",
    "    plt.tight_layout()\n",
    "\n",
    "    if path:\n",
    "        plt.savefig(path + \".png\")\n",
    "        plt.savefig(path + \".pdf\")"
   ]
  },
  {
   "cell_type": "code",
   "execution_count": null,
   "metadata": {},
   "outputs": [],
   "source": [
    "create_overlayed_histos(\n",
    "    [df_scf.query(f\"rbin=={i}\") for i in range(7)],\n",
    "    [f\"{i}\" for i in range(7)],\n",
    "    \"dt\",\n",
    "    True,\n",
    "    \"SCF $\\Delta t$ [ps]\",\n",
    "    \"dt_scf_rbins\"\n",
    ")"
   ]
  },
  {
   "cell_type": "code",
   "execution_count": null,
   "metadata": {},
   "outputs": [],
   "source": [
    "create_overlayed_histos(\n",
    "    [df_bkg.query(f\"rbin=={i}\") for i in range(7)],\n",
    "    [f\"{i}\" for i in range(7)],\n",
    "    \"dt\",\n",
    "    True,\n",
    "    \"BKG $\\Delta t$ [ps]\",\n",
    "    \"dt_bkg_rbins\"\n",
    ")"
   ]
  },
  {
   "cell_type": "code",
   "execution_count": null,
   "metadata": {},
   "outputs": [],
   "source": [
    "print(df_scf.shape)\n",
    "print(df_bkg.shape)"
   ]
  },
  {
   "cell_type": "code",
   "execution_count": null,
   "metadata": {},
   "outputs": [],
   "source": [
    "df_cr[['tagwtag', 'rbin']].describe()"
   ]
  },
  {
   "cell_type": "code",
   "execution_count": null,
   "metadata": {},
   "outputs": [],
   "source": [
    "w_svd2_mc = [0.5, 0.412222, 0.307838, 0.212765, 0.149933, 0.0913264, 0.0218754]\n",
    "dw_svd2_mc = [0., 0.00408778, 0.010326,  -0.00479522, 0.00151989, 0.0143633,  0.00189979]"
   ]
  },
  {
   "cell_type": "code",
   "execution_count": null,
   "metadata": {},
   "outputs": [],
   "source": [
    "w = 0\n",
    "dw = 0\n",
    "for i in range(7):\n",
    "    w += w_svd2_mc[i] * df_cr.query(f'rbin=={i}').shape[0] / df_cr.shape[0]\n",
    "    dw += dw_svd2_mc[i] * df_cr.query(f'rbin=={i}').shape[0] / df_cr.shape[0]\n",
    "print(w)\n",
    "print(dw)"
   ]
  },
  {
   "cell_type": "code",
   "execution_count": null,
   "metadata": {},
   "outputs": [],
   "source": [
    "create_overlayed_histos(\n",
    "    [df_cr.query(f\"rbin=={i}\") for i in range(7)],\n",
    "    [f\"{i}\" for i in range(7)],\n",
    "    \"de\",\n",
    "    True,\n",
    "    \"CR $\\Delta E$ [GeV]\",\n",
    "    \"de_cr_rbins\"\n",
    ")"
   ]
  },
  {
   "cell_type": "code",
   "execution_count": null,
   "metadata": {},
   "outputs": [],
   "source": [
    "create_overlayed_histos(\n",
    "    [df_scf.query(f\"rbin=={i}\") for i in range(7)],\n",
    "    [f\"{i}\" for i in range(7)],\n",
    "    \"de\",\n",
    "    True,\n",
    "    \"SCF $\\Delta E$ [GeV]\",\n",
    "    \"de_scf_rbins\"\n",
    ")"
   ]
  },
  {
   "cell_type": "code",
   "execution_count": null,
   "metadata": {},
   "outputs": [],
   "source": [
    "create_overlayed_histos(\n",
    "    [df_bkg.query(f\"rbin=={i}\") for i in range(7)],\n",
    "    [f\"{i}\" for i in range(7)],\n",
    "    \"de\",\n",
    "    True,\n",
    "    \"BKG $\\Delta E$ [GeV]\",\n",
    "    \"de_bkg_rbins\"\n",
    ")"
   ]
  },
  {
   "cell_type": "code",
   "execution_count": null,
   "metadata": {},
   "outputs": [],
   "source": [
    "plt.hist([df_cr.rbin, df_scf.rbin, df_bkg.rbin], bins=np.linspace(-0.5,6.5,8), histtype='step')\n",
    "plt.legend(['CR','SCF','BKG'])"
   ]
  },
  {
   "cell_type": "code",
   "execution_count": null,
   "metadata": {},
   "outputs": [],
   "source": [
    "cr_counts = [df_cr.query(f'rbin=={rbin}').shape[0] for rbin in range(7)]\n",
    "scf_counts = [df_scf.query(f'rbin=={rbin}').shape[0] for rbin in range(7)]\n",
    "bkg_counts = [df_bkg.query(f'rbin=={rbin}').shape[0] for rbin in range(7)]\n",
    "all_counts = list(np.array(cr_counts) + np.array(scf_counts) + np.array(bkg_counts))"
   ]
  },
  {
   "cell_type": "code",
   "execution_count": null,
   "metadata": {},
   "outputs": [],
   "source": [
    "print(\"rbin | CR/all | SCF/all | BKG/CR\")\n",
    "print(\"-----|--------|---------|-------\")\n",
    "for rbin in range(7):\n",
    "    print(\n",
    "        f\"{rbin:4} | {cr_counts[rbin] / (all_counts[rbin]):6.3f} | {scf_counts[rbin] / all_counts[rbin]:7.3f} | {bkg_counts[rbin] / all_counts[rbin]:6.3f}\"\n",
    "    )\n",
    "print(f\" all | {df_cr.shape[0] / (df_cr.shape[0] + df_scf.shape[0] + df_bkg.shape[0]):6.3f} | \"\n",
    "      f\"{df_scf.shape[0] / (df_cr.shape[0] + df_scf.shape[0] + df_bkg.shape[0]):7.3f} | \"\n",
    "      f\"{df_bkg.shape[0] / (df_cr.shape[0] + df_scf.shape[0] + df_bkg.shape[0]):6.3f}\")"
   ]
  },
  {
   "cell_type": "code",
   "execution_count": null,
   "metadata": {},
   "outputs": [],
   "source": []
  }
 ],
 "metadata": {
  "kernelspec": {
   "display_name": "Python 3",
   "language": "python",
   "name": "python3"
  },
  "language_info": {
   "codemirror_mode": {
    "name": "ipython",
    "version": 3
   },
   "file_extension": ".py",
   "mimetype": "text/x-python",
   "name": "python",
   "nbconvert_exporter": "python",
   "pygments_lexer": "ipython3",
   "version": "3.7.3"
  }
 },
 "nbformat": 4,
 "nbformat_minor": 4
}
