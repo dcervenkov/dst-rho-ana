{
 "cells": [
  {
   "cell_type": "code",
   "execution_count": null,
   "metadata": {
    "ExecuteTime": {
     "end_time": "2020-08-11T18:31:08.019904Z",
     "start_time": "2020-08-11T18:31:07.369545Z"
    },
    "jupyter": {
     "source_hidden": true
    }
   },
   "outputs": [],
   "source": [
    "# Standard includes\n",
    "%matplotlib inline\n",
    "# %matplotlib widget\n",
    "import json\n",
    "import glob\n",
    "import matplotlib.pyplot as plt\n",
    "import numpy as np\n",
    "import pandas as pd\n",
    "# from scipy.optimize import curve_fit\n",
    "# from scipy.stats import norm\n",
    "# from statsmodels.base.model import GenericLikelihoodModel"
   ]
  },
  {
   "cell_type": "code",
   "execution_count": null,
   "metadata": {
    "ExecuteTime": {
     "end_time": "2020-08-11T18:31:08.412383Z",
     "start_time": "2020-08-11T18:31:08.022493Z"
    },
    "jupyter": {
     "source_hidden": true
    }
   },
   "outputs": [],
   "source": [
    "# Style setup\n",
    "import seaborn as sns\n",
    "sns.set_palette('muted')\n",
    "sns.set_color_codes()\n",
    "sns.set_style('ticks')\n",
    "sns.set_style({'xtick.direction': 'in','ytick.direction': 'in'})\n",
    "sns.set_style({'axes.grid': 'True', 'grid.color': '0.95'})\n",
    "\n",
    "plt.rcParams['figure.figsize'] = [6,6]\n",
    "plt.rcParams['figure.dpi'] = 100\n",
    "\n",
    "def darken_color(color, p):\n",
    "    return (color[0]*p,color[1]*p,color[2]*p)\n",
    "\n",
    "import matplotlib as mpl\n",
    "colors = sns.color_palette('muted') + [(.1, .1, .1)]\n",
    "for code, color in zip(['bd','gd','rd','md','yd','cd','kd'], colors):\n",
    "    rgb = mpl.colors.colorConverter.to_rgb(darken_color(color,0.8))\n",
    "    mpl.colors.colorConverter.colors[code] = rgb\n",
    "    mpl.colors.colorConverter.cache[code] = rgb\n",
    "\n",
    "blue = (114/256, 147/256, 203/256)\n",
    "orange = (225/256, 151/256,  76/256)\n",
    "green = (132/256, 186/256,  91/256)\n",
    "red = (211/256,  94/256,  96/256)\n",
    "grey = (128/256, 133/256, 133/256)\n",
    "violet = (144/256, 103/256, 167/256)\n",
    "brown = (171/256, 104/256,  87/256)\n",
    "yellow = (204/256, 194/256,  16/256)\n",
    "\n",
    "SMALL_SIZE = 14\n",
    "MEDIUM_SIZE = 16\n",
    "BIGGER_SIZE = 18\n",
    "\n",
    "plt.rc('font', size=SMALL_SIZE)          # controls default text sizes\n",
    "plt.rc('axes', titlesize=SMALL_SIZE)     # fontsize of the axes title\n",
    "plt.rc('axes', labelsize=MEDIUM_SIZE)    # fontsize of the x and y labels\n",
    "plt.rc('xtick', labelsize=SMALL_SIZE)    # fontsize of the tick labels\n",
    "plt.rc('ytick', labelsize=SMALL_SIZE)    # fontsize of the tick labels\n",
    "plt.rc('legend', fontsize=SMALL_SIZE)    # legend fontsize\n",
    "plt.rc('figure', titlesize=BIGGER_SIZE)  # fontsize of the figure title"
   ]
  },
  {
   "cell_type": "code",
   "execution_count": null,
   "metadata": {
    "ExecuteTime": {
     "end_time": "2020-08-11T18:31:08.420904Z",
     "start_time": "2020-08-11T18:31:08.414672Z"
    }
   },
   "outputs": [],
   "source": [
    "def read_fractions(filename):\n",
    "    with open(filename, 'r') as f:\n",
    "        data = json.load(f)\n",
    "#         return data\n",
    "#         return data['angular_pdf']\n",
    "        return data['phys_dt_model']"
   ]
  },
  {
   "cell_type": "code",
   "execution_count": null,
   "metadata": {
    "ExecuteTime": {
     "end_time": "2020-08-11T18:31:08.441803Z",
     "start_time": "2020-08-11T18:31:08.422657Z"
    }
   },
   "outputs": [],
   "source": [
    "df_nocorr = pd.DataFrame([\n",
    "    read_fractions(file)\n",
    "#     for file in glob.glob(\"../DSRhoYield/test_nocorr/rnd_*/Kpi_data_fractions.json\")\n",
    "#     for file in glob.glob(\"../DSRhoBackground/results/randomized/nonphys_Kpi_mc_bkg_rnd_*.json\")\n",
    "#     for file in glob.glob(\"../DSRhoBackground/results/randomized/nonphys_Kpi_mc_bkg_rnd_*.json\")\n",
    "    for file in glob.glob(\"../DSRhoBackground/results/randomized/together_data_sidebands_rnd_*.json\")\n",
    "])\n",
    "\n",
    "df_corr = pd.DataFrame([\n",
    "    read_fractions(file)\n",
    "#     for file in glob.glob(\"../DSRhoYield/test_corr/rnd_*/Kpi_data_fractions.json\")\n",
    "#     for file in glob.glob(\"../DSRhoBackground/results/randomized_corr/nonphys_Kpi_mc_bkg_rnd_*.json\")\n",
    "#     for file in glob.glob(\"../DSRhoBackground/results/randomized_corr/nonphys_Kpi_mc_bkg_rnd_*.json\")\n",
    "    for file in glob.glob(\"../DSRhoBackground/results/randomized_corr/together_data_sidebands_rnd_*.json\")\n",
    "])"
   ]
  },
  {
   "cell_type": "code",
   "execution_count": null,
   "metadata": {
    "ExecuteTime": {
     "end_time": "2020-08-11T18:31:08.449901Z",
     "start_time": "2020-08-11T18:31:08.443174Z"
    }
   },
   "outputs": [],
   "source": [
    "df_nocorr = df_nocorr.loc[:, (df_nocorr != 0).any(axis=0)]"
   ]
  },
  {
   "cell_type": "code",
   "execution_count": null,
   "metadata": {
    "ExecuteTime": {
     "end_time": "2020-08-11T18:34:35.981554Z",
     "start_time": "2020-08-11T18:34:35.975626Z"
    }
   },
   "outputs": [],
   "source": [
    "def plot_correlations(df):\n",
    "    f = plt.figure(figsize=(5, 4))\n",
    "    plt.matshow(df.corr(), fignum=f.number, cmap='coolwarm', vmin=-1, vmax=1)\n",
    "    \n",
    "    for (i, j), z in np.ndenumerate(df.corr()):\n",
    "        f.axes[0].text(j, i, '{:0.1f}'.format(z), ha='center', va='center', fontsize=8)\n",
    "    \n",
    "    plt.xticks(range(df.shape[1]), df.columns, fontsize=10, rotation=90)\n",
    "    plt.yticks(range(df.shape[1]), df.columns, fontsize=10)\n",
    "    cb = plt.colorbar()\n",
    "    cb.ax.tick_params(labelsize=10)\n",
    "    plt.grid(False)\n",
    "    plt.show()"
   ]
  },
  {
   "cell_type": "code",
   "execution_count": null,
   "metadata": {
    "ExecuteTime": {
     "end_time": "2020-08-11T18:34:37.410349Z",
     "start_time": "2020-08-11T18:34:36.165533Z"
    }
   },
   "outputs": [],
   "source": [
    "plot_correlations(df_nocorr)\n",
    "plot_correlations(df_corr)"
   ]
  },
  {
   "cell_type": "code",
   "execution_count": null,
   "metadata": {
    "ExecuteTime": {
     "end_time": "2020-08-11T18:31:09.360827Z",
     "start_time": "2020-08-11T18:31:09.073384Z"
    }
   },
   "outputs": [],
   "source": [
    "df_nocorr.plot.scatter(0, 1, c=[blue])"
   ]
  },
  {
   "cell_type": "code",
   "execution_count": null,
   "metadata": {
    "ExecuteTime": {
     "end_time": "2020-08-11T18:31:09.594852Z",
     "start_time": "2020-08-11T18:31:09.362419Z"
    }
   },
   "outputs": [],
   "source": [
    "df_corr.plot.scatter(0, 1, c=[blue])"
   ]
  },
  {
   "cell_type": "code",
   "execution_count": null,
   "metadata": {},
   "outputs": [],
   "source": []
  }
 ],
 "metadata": {
  "kernelspec": {
   "display_name": "Python 3",
   "language": "python",
   "name": "python3"
  },
  "language_info": {
   "codemirror_mode": {
    "name": "ipython",
    "version": 3
   },
   "file_extension": ".py",
   "mimetype": "text/x-python",
   "name": "python",
   "nbconvert_exporter": "python",
   "pygments_lexer": "ipython3",
   "version": "3.7.3"
  }
 },
 "nbformat": 4,
 "nbformat_minor": 4
}
